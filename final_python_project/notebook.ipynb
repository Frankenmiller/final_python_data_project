{
 "cells": [
  {
   "cell_type": "markdown",
   "metadata": {},
   "source": [
    "This is Bryan Allen's submission for IDB10's Final Porfolio for skills of Python-Jupyter-Pandas-GitHub programming. It is based on a popular database of nutrition data from McD's Menu Items in India! There are three Q's I am curious to know and will attempt to answer using data manipulation:\n",
    "<br/><br/>1.) Which item(s) have the most sugar and/or the HIGHEST ratio of sugar to serving size?\n",
    "<br/>2.) What is the most unhealthy item on the Menu(I.E. Which item(s) contain the most fat? \n",
    "<br/>3.) Which item(s) have the most sodium and/or the HIGHEST ratio of sodium to serving size?\n",
    "<br/><br/>I hope that some these insights can help our programmer friends on Indian sub-continent make healthy choices for themselves and for their familes, so that they can responsibly enjoy these unique Indian-American treats. Who knows, maybe some of them will choose to work with McDs in the future."
   ]
  },
  {
   "cell_type": "markdown",
   "metadata": {},
   "source": [
    "<a class=\"anchor\" id=\"table_contents\"></a>\n",
    "<h2 style=\"color: #808080; background-color:#9aa9a9; text-align:center; border: 3px solid #000000\"><span style=\"color:#670100; font-weight:800\">Table of Contents</span></h2>"
   ]
  },
  {
   "cell_type": "markdown",
   "metadata": {},
   "source": [
    "* [Section 1: Importing Necessary Libraries and Data](#section1)\n",
    "* [Section 2: Previewing Data](#section2)\n",
    "* [Section 3: Data Cleaning](#section3)\n",
    "* [Section 4: Question #1 Danger of Sugar](#section4)\n",
    "* [Section 5: Question #2 Danger of Fat](#section5)\n",
    "* [Section 6: Question #3 Danger of Sodium](#section6)\n",
    "* [Section 7: Building the Model](#section7)\n",
    "* [Section 8: Testing Custom Data](#section8)\n",
    "\n",
    "<a class=\"anchor\" id=\"section1\"></a>\n",
    "<h2 style=\"color: #808080; background-color:#9aa9a9; text-align:center; border: 3px solid #000000\"><span style=\"color:#670100; font-weight:800\">Importing Necessary Libraries and Data</span></h2>"
   ]
  },
  {
   "cell_type": "code",
   "execution_count": 178,
   "metadata": {},
   "outputs": [],
   "source": [
    "import pandas as pandas\n",
    "import numpy as numpy\n",
    "import matplotlib.pyplot as plt"
   ]
  },
  {
   "cell_type": "markdown",
   "metadata": {},
   "source": [
    "A NOTE ON NAMING CONVENTIONS: My project limits use of aliases, since I am owner of this Notebook. I'm aware that on teams the standard naming convention is to create abbreviated aliases, and so when I'm on those teams I'll defer to their conventions, but if the project is mine I will name the modules whatever looks the coolest.\n",
    "\n",
    "Some programmers have asked why I do this; aliases make everything kinda look the same to me to force me to strain looking at them, the same when I look at red on green background, so maybe it's a disconnect between the brain and the eye (indeed I do have a touch of that type of color blindness). But the simple answer is that python code is fun to type, and it's beautiful to look at, for me anyway. Why would I want cover that up?\n",
    "<br /><br />\n",
    "Bryan Allen, apprentice Data Engineer<br />\n",
    "Lusaka Zambia August 2022\n"
   ]
  },
  {
   "cell_type": "code",
   "execution_count": 179,
   "metadata": {},
   "outputs": [],
   "source": [
    "dataframe = pandas.read_csv('India_Menu.csv')"
   ]
  },
  {
   "cell_type": "markdown",
   "metadata": {},
   "source": [
    "<a class=\"anchor\" id=\"section2\"></a>\n",
    "<h2 style=\"color: #808080; background-color:#808080; text-align:center; border: 3px solid #000000\"><span style=\"color:#670100; font-weight:800\">Previewing Data</span></h2>\n",
    "<br/>Taking a look at the head and tail of our DB can quickly give us an idea how long and how wide is the DB we're working with. Also we'll get rough idea how much cleaning our data will require."
   ]
  },
  {
   "cell_type": "code",
   "execution_count": 180,
   "metadata": {},
   "outputs": [
    {
     "name": "stdout",
     "output_type": "stream",
     "text": [
      "  Menu Category            Menu Items Per Serve Size  Energy (kCal)  \\\n",
      "0  Regular Menu      McVeggie™ Burger          168 g         402.05   \n",
      "1  Regular Menu  McAloo Tikki Burger®          146 g         339.52   \n",
      "\n",
      "   Protein (g)  Total fat (g)  Sat Fat (g)  Trans fat (g)  Cholesterols (mg)  \\\n",
      "0        10.24          13.83         5.34           0.16               2.49   \n",
      "1         8.50          11.31         4.27           0.20               1.47   \n",
      "\n",
      "   Total carbohydrate (g)  Total Sugars (g)  Added Sugars (g)  Sodium (mg)  \n",
      "0                   56.54              7.90              4.49       706.13  \n",
      "1                   50.27              7.05              4.07       545.34  \n",
      "       Menu Category            Menu Items Per Serve Size  Energy (kCal)  \\\n",
      "139  Condiments Menu            Sweet Corn           40 g          45.08   \n",
      "140  Condiments Menu  Mixed Fruit Beverage         180 ml          72.25   \n",
      "\n",
      "     Protein (g)  Total fat (g)  Sat Fat (g)  Trans fat (g)  \\\n",
      "139         1.47           1.00         0.22           0.04   \n",
      "140         0.65           0.02         0.02           0.02   \n",
      "\n",
      "     Cholesterols (mg)  Total carbohydrate (g)  Total Sugars (g)  \\\n",
      "139               2.00                    7.55              2.54   \n",
      "140               0.01                   18.00             16.83   \n",
      "\n",
      "     Added Sugars (g)  Sodium (mg)  \n",
      "139               0.0         0.04  \n",
      "140               0.0        10.80  \n"
     ]
    }
   ],
   "source": [
    "print(dataframe.head(2))\n",
    "print(dataframe.tail(2))"
   ]
  },
  {
   "cell_type": "code",
   "execution_count": 181,
   "metadata": {},
   "outputs": [
    {
     "name": "stdout",
     "output_type": "stream",
     "text": [
      "There are 141 items in the dataframe\n",
      "\n",
      "While we're at it let's go ahead take look at our column headers as a list\n"
     ]
    },
    {
     "data": {
      "text/plain": [
       "['Menu Category',\n",
       " 'Menu Items',\n",
       " 'Per Serve Size',\n",
       " 'Energy (kCal)',\n",
       " 'Protein (g)',\n",
       " 'Total fat (g)',\n",
       " 'Sat Fat (g)',\n",
       " 'Trans fat (g)',\n",
       " 'Cholesterols (mg)',\n",
       " 'Total carbohydrate (g)',\n",
       " 'Total Sugars (g)',\n",
       " 'Added Sugars (g)',\n",
       " 'Sodium (mg)']"
      ]
     },
     "execution_count": 181,
     "metadata": {},
     "output_type": "execute_result"
    }
   ],
   "source": [
    "item_count = dataframe['Menu Items'].count()\n",
    "print(\"There are\", item_count, \"items in the dataframe\")\n",
    "print()\n",
    "print(\"While we're at it let's go ahead take look at our column headers as a list\")\n",
    "list(dataframe.columns)"
   ]
  },
  {
   "cell_type": "code",
   "execution_count": 182,
   "metadata": {},
   "outputs": [
    {
     "name": "stdout",
     "output_type": "stream",
     "text": [
      "There are 7 unique categories of menu items. Let's take look at them:\n",
      "McCafe Menu        51\n",
      "Regular Menu       36\n",
      "Beverages Menu     17\n",
      "Breakfast Menu     15\n",
      "Gourmet Menu       11\n",
      "Condiments Menu     9\n",
      "Desserts Menu       2\n",
      "Name: Menu Category, dtype: int64\n",
      "Hey, this looks like good opportunity create a Histogram! Let's visualize the dispersion of these categories\n"
     ]
    },
    {
     "data": {
      "image/png": "[encoded data removed]",
      "text/plain": [
       "<Figure size 432x288 with 1 Axes>"
      ]
     },
     "metadata": {
      "needs_background": "dark"
     },
     "output_type": "display_data"
    }
   ],
   "source": [
    "num_unique_cats = dataframe[\"Menu Category\"].nunique()\n",
    "print(\"There are\", num_unique_cats,\"unique categories of menu items. Let's take look at them:\")\n",
    "menu_cat_values = (dataframe[\"Menu Category\"].value_counts())\n",
    "print(menu_cat_values)\n",
    "print(\"Hey, this looks like good opportunity create a Histogram! Let's visualize the dispersion of these categories\")\n",
    "bins=[0,1,2,3,4,5,6,7]\n",
    "plt.hist(dataframe['Menu Category'], bins=bins, facecolor='blue', edgecolor='gray', rwidth=1, align='mid')\n",
    "## plt.tight_layout()\n",
    "plt.title(\"Dispersion of Menu Categories\", fontweight =\"bold\", color =\"white\")\n",
    "plt.xlabel(\"Number menu items in category\", fontweight =\"bold\", color =\"white\")\n",
    "plt.ylabel(\"Menu Categories\", fontweight =\"bold\", color =\"white\")\n",
    "plt.xticks(color =\"white\", rotation = 45)\n",
    "plt.yticks(fontsize= 10, color =\"white\")\n",
    "plt.show()"
   ]
  },
  {
   "cell_type": "markdown",
   "metadata": {},
   "source": [
    "[Return to Top: Table of Contents](#table_contents)\n",
    "<a class=\"anchor\" id=\"section3\"></a>\n",
    "<h2 style=\"color:#808080; background-color:#808080; text-align:center; border: 3px solid #000000\"><span style=\"color:#670100; font-weight:800\">Data Cleaning</span></h2>\n",
    "<br/>\n",
    "Cleaning requires the skill of a detective and the creativity of a seasoned programmer. One learns all kinds of neat tricks and builds out his/her utility belt of tools. So let's not be afraid get our hands dirty, this part is fun!"
   ]
  },
  {
   "cell_type": "code",
   "execution_count": 183,
   "metadata": {},
   "outputs": [],
   "source": [
    "pandas.set_option('display.max_colwidth', 25) ## constrains output length of cell value"
   ]
  },
  {
   "cell_type": "code",
   "execution_count": 184,
   "metadata": {},
   "outputs": [],
   "source": [
    "for col in list(dataframe.columns):\n",
    "    dataframe[col] = dataframe[col].astype(str).str.replace(u\"\\u2122\",'')\n",
    "for col in list(dataframe.columns):\n",
    "    dataframe[col] = dataframe[col].astype(str).str.replace(\"®\",'')    "
   ]
  },
  {
   "cell_type": "markdown",
   "metadata": {},
   "source": [
    "Some of the cell values have special characters that need to be stripped out in order convert them from object to string type data."
   ]
  },
  {
   "cell_type": "code",
   "execution_count": 185,
   "metadata": {},
   "outputs": [],
   "source": [
    "for i in range(len(dataframe['Per Serve Size'])):\n",
    "    curr_cell = dataframe['Per Serve Size'][i]\n",
    "    curr_cell = curr_cell.split(' ')\n",
    "    dataframe['Per Serve Size'][i] = curr_cell[0]\n",
    "    i += 1"
   ]
  },
  {
   "cell_type": "markdown",
   "metadata": {},
   "source": [
    "When splitting values contained within the serving size we can see if the menu item is a drink or a food by observing whether it is measured in grams or mililiters. This distinction will be critical later in our observations.\n",
    "<br/><br/>\n",
    "Check out this conversion machine! It's takes an objects as input and spits them out as the desired float data type"
   ]
  },
  {
   "cell_type": "code",
   "execution_count": 186,
   "metadata": {},
   "outputs": [
    {
     "name": "stdout",
     "output_type": "stream",
     "text": [
      "Total Sugars starts as type: object\n",
      "Serve Size starts as type: object\n",
      "Total fat starts as type: object\n",
      "Total Sodium starts as type: object\n",
      "> > > > > > > > > > >  Making > > > > > > > > > > > \n",
      "< < < < < < < < < <  Conversion < < < < < < < < < < \n",
      "Column Total Sugars has been converted to type: float64\n",
      "Column Serve Size has been converted to type: float64\n",
      "Column Total fat has been converted to type: float64\n",
      "Column Total Sodium has been converted to type: float64\n"
     ]
    }
   ],
   "source": [
    "print(\"Total Sugars starts as type:\", dataframe['Total Sugars (g)'].dtype)\n",
    "print(\"Serve Size starts as type:\", dataframe['Per Serve Size'].dtype)\n",
    "print(\"Total fat starts as type:\", dataframe['Total fat (g)'].dtype)\n",
    "print(\"Total Sodium starts as type:\", dataframe['Sodium (mg)'].dtype)\n",
    "print(\"> \" * 11,\"Making\",\"> \" * 11)\n",
    "print(\"< \" * 10,\"Conversion\",\"< \" * 10)\n",
    "dataframe['Per Serve Size'] = dataframe['Per Serve Size'].astype(float)\n",
    "dataframe['Total Sugars (g)'] = dataframe['Total Sugars (g)'].astype(float)\n",
    "dataframe['Total fat (g)'] = dataframe['Total fat (g)'].astype(float)\n",
    "dataframe['Sodium (mg)'] = dataframe['Sodium (mg)'].astype(float)\n",
    "print(\"Column Total Sugars has been converted to type:\",dataframe['Total Sugars (g)'].dtype)\n",
    "print(\"Column Serve Size has been converted to type:\",dataframe['Per Serve Size'].dtype)\n",
    "print(\"Column Total fat has been converted to type:\",dataframe['Total fat (g)'].dtype)\n",
    "print(\"Column Total Sodium has been converted to type:\",dataframe['Sodium (mg)'].dtype)"
   ]
  },
  {
   "cell_type": "code",
   "execution_count": 187,
   "metadata": {},
   "outputs": [],
   "source": [
    "## print(dataframe.head(5))"
   ]
  },
  {
   "cell_type": "markdown",
   "metadata": {},
   "source": [
    "[Return to Top: Table of Contents](#table_contents)\n",
    "<a class=\"anchor\" id=\"section4\"></a>\n",
    "<h2 style=\"color: #808080; background-color:#9aa9a9; text-align:center; border: 3px solid #000000\"><span style=\"color:#670100; font-weight:800\">Question #1 Danger of Sugar</span></h2>\n",
    "\n",
    "<br/>What item has HIGHEST ratio of sugar to serving size?\n",
    "In order try answer this Q I will utilize a scatterplot, with serving\n",
    "size for x-axis and sugars on the y-axis. Later I will do some arithmetic\n",
    "to calculate the respecive ratios but first let's visualize that data!"
   ]
  },
  {
   "cell_type": "code",
   "execution_count": 188,
   "metadata": {},
   "outputs": [],
   "source": [
    "dataframe['grams sugar/mL'] = round(dataframe['Total Sugars (g)'] / dataframe['Per Serve Size'] * 100, 2)\n",
    "soda_df = dataframe[['Menu Category','Menu Items','Total Sugars (g)', 'Per Serve Size', 'grams sugar/mL']]\n",
    "coffee_df = dataframe[['Menu Category','Menu Items','Total Sugars (g)', 'Per Serve Size', 'grams sugar/mL']]\n",
    "soda_df = soda_df.loc[soda_df['Menu Category'] == ('Beverages Menu')]\n",
    "coffee_df = coffee_df.loc[coffee_df['Menu Category'] == ('McCafe Menu')]\n",
    "beverage_df = pandas.concat([soda_df, coffee_df], axis=1)"
   ]
  },
  {
   "cell_type": "markdown",
   "metadata": {},
   "source": [
    "Now that we've created our dataframes let's create a scatterplot. Perhaps a few items will pop out at us."
   ]
  },
  {
   "cell_type": "code",
   "execution_count": 189,
   "metadata": {},
   "outputs": [
    {
     "data": {
      "image/png": "[encoded data removed]",
      "text/plain": [
       "<Figure size 432x288 with 1 Axes>"
      ]
     },
     "metadata": {
      "needs_background": "dark"
     },
     "output_type": "display_data"
    }
   ],
   "source": [
    "x = numpy.array(beverage_df['Total Sugars (g)'])\n",
    "y = numpy.array(beverage_df['Per Serve Size'])\n",
    "plt.scatter(x, y)\n",
    "plt.title(\"Gimme some Sugar!\", fontweight =\"bold\", color =\"white\")\n",
    "plt.xlabel(\"Total Sugars in grams\", fontweight =\"bold\", color =\"white\")\n",
    "plt.ylabel(\"Serving Size in mL\", fontweight =\"bold\", color =\"white\")\n",
    "plt.xticks(fontsize= 10, color =\"white\")\n",
    "plt.yticks(fontsize= 10, color =\"white\")\n",
    "plt.show()\n"
   ]
  },
  {
   "cell_type": "markdown",
   "metadata": {},
   "source": [
    "Now that we've visualized them let's create tables to see the worst offenders"
   ]
  },
  {
   "cell_type": "code",
   "execution_count": 190,
   "metadata": {
    "scrolled": true
   },
   "outputs": [
    {
     "name": "stdout",
     "output_type": "stream",
     "text": [
      "               Menu Items  Total Sugars (g)  Per Serve Size  grams sugar/mL\n",
      "0      Large Fanta Oragne             64.22           544.0           11.81\n",
      "1            Large Sprite             59.28           544.0           10.90\n",
      "2   Chocolate Oreo Frappe             55.14           334.0           16.51\n",
      "3         Large Coca-Cola             54.34           544.0            9.99\n",
      "4  American Mud Pie Shake             53.40           317.0           16.85\n"
     ]
    }
   ],
   "source": [
    "coffee_df.reset_index(drop=True, inplace=True)\n",
    "soda_df.reset_index(drop=False, inplace=True)\n",
    "beverage_df_print = pandas.concat([soda_df, coffee_df], axis=0, ignore_index=True)\n",
    "beverage_df_print = beverage_df_print[['Menu Items','Total Sugars (g)', 'Per Serve Size', 'grams sugar/mL']]\n",
    "## beverage_df_print = beverage_df_print.sort_values(by=\"Total Sugars (g)\", ascending=False, na_position='first', inplace=True)\n",
    "beverage_df_print.sort_values(by='Total Sugars (g)', ascending=False, na_position='first', inplace=True)\n",
    "beverage_df_print = beverage_df_print.reset_index(drop=True, inplace=False)\n",
    "print(beverage_df_print.head(5))"
   ]
  },
  {
   "cell_type": "code",
   "execution_count": 191,
   "metadata": {},
   "outputs": [
    {
     "name": "stdout",
     "output_type": "stream",
     "text": [
      "                 Menu Items  Total Sugars (g)  Per Serve Size  grams sugar/mL\n",
      "0        Medium Blackforest             48.45          200.08           24.22\n",
      "1       Regular Blackforest             27.79          125.79           22.09\n",
      "2  Medium Soft Serve: St...             28.20          132.08           21.35\n",
      "3  Medium Soft Serve: Ho...             27.01          132.08           20.45\n",
      "4  Double Dark Hot Choco...             31.81          163.00           19.52\n"
     ]
    }
   ],
   "source": [
    "coffee_df.reset_index(drop=True, inplace=True)\n",
    "soda_df.reset_index(drop=False, inplace=True)\n",
    "beverage_df_print = pandas.concat([soda_df, coffee_df], axis=0, ignore_index=True)\n",
    "beverage_df_print = beverage_df_print[['Menu Items','Total Sugars (g)', 'Per Serve Size', 'grams sugar/mL']]\n",
    "## beverage_df_print = beverage_df_print.sort_values(by=\"Total Sugars (g)\", ascending=False, na_position='first', inplace=True)\n",
    "beverage_df_print.sort_values(by='grams sugar/mL', ascending=False, na_position='first', inplace=True)\n",
    "beverage_df_print = beverage_df_print.reset_index(drop=True, inplace=False)\n",
    "print(beverage_df_print.head(5))"
   ]
  },
  {
   "cell_type": "markdown",
   "metadata": {},
   "source": [
    "So even tho we see the drinks that contain the highest sugars are the usual offenders like large size Fanta and Coco-Cola we should advise our friends to also be selective with some of the McCafe hot drinks for they seem to be the sweetest beverages most saturated in sweeteners."
   ]
  },
  {
   "cell_type": "markdown",
   "metadata": {},
   "source": [
    "[Return to Top: Table of Contents](#table_contents)\n",
    "<a class=\"anchor\" id=\"section5\"></a>\n",
    "<h2 style=\"color: #808080; background-color:#9aa9a9; text-align:center; border: 3px solid #000000\"><span style=\"color:#670100; font-weight:800\">Question #2 Danger of Fat</span></h2>\n",
    "\n",
    "<br/> As living standards on Indian sub-continent rise so too are peoples waistlines. Whereas our first set of questions could arm consumers against threat of Diabetes, this second set of questions will help our friends make informed choices to protect themselves against the rising threat of obesity."
   ]
  },
  {
   "cell_type": "code",
   "execution_count": 192,
   "metadata": {},
   "outputs": [
    {
     "name": "stdout",
     "output_type": "stream",
     "text": [
      "44 Items in fatty_df\n"
     ]
    }
   ],
   "source": [
    "dataframe['Fat (%)'] = round(dataframe['Total fat (g)'] / dataframe['Per Serve Size'] * 100, 2)\n",
    "breakfast_df = dataframe[['Menu Category','Menu Items','Total fat (g)', 'Per Serve Size', 'Fat (%)']]\n",
    "breakfast_df = breakfast_df.loc[breakfast_df['Menu Category'] == ('Breakfast Menu')]\n",
    "breakfast_df = breakfast_df.iloc[:-7,] ## removes coffee drinks\n",
    "lunch_df = dataframe[['Menu Category','Menu Items','Total fat (g)', 'Per Serve Size', 'Fat (%)']]\n",
    "lunch_df = lunch_df.loc[lunch_df['Menu Category'] == ('Regular Menu')]\n",
    "fatty_df = pandas.concat([breakfast_df, lunch_df], axis=0, ignore_index=True)\n",
    "print(len(fatty_df), \"Items in fatty_df\")"
   ]
  },
  {
   "cell_type": "code",
   "execution_count": 193,
   "metadata": {},
   "outputs": [
    {
     "data": {
      "image/png": "[encoded data removed]",
      "text/plain": [
       "<Figure size 432x288 with 1 Axes>"
      ]
     },
     "metadata": {
      "needs_background": "dark"
     },
     "output_type": "display_data"
    }
   ],
   "source": [
    "x = numpy.array(fatty_df['Total fat (g)'])\n",
    "y = numpy.array(fatty_df['Per Serve Size'])\n",
    "plt.scatter(x, y)\n",
    "plt.title(\"Fat is Beautiful?\", fontweight =\"bold\", color =\"white\")\n",
    "plt.xlabel(\"Total Fat in grams\", fontweight =\"bold\", color =\"white\")\n",
    "plt.ylabel(\"Serving Size in grams\", fontweight =\"bold\", color =\"white\")\n",
    "plt.xticks(fontsize= 10, color =\"white\")\n",
    "plt.yticks(fontsize= 10, color =\"white\")\n",
    "plt.show()"
   ]
  },
  {
   "cell_type": "code",
   "execution_count": 194,
   "metadata": {},
   "outputs": [
    {
     "name": "stdout",
     "output_type": "stream",
     "text": [
      "                 Menu Items  Total fat (g)  Per Serve Size  Fat (%)\n",
      "0     McSpicy Paneer Burger          39.45           199.0    19.82\n",
      "1         Spicy Paneer Wrap          39.10           250.0    15.64\n",
      "2          Veg Maharaja Mac          37.94           306.0    12.40\n",
      "3      Chicken Maharaja Mac          36.69           296.0    12.40\n",
      "4  Ghee Rice with Mc Spi...          29.20           325.0     8.98\n"
     ]
    }
   ],
   "source": [
    "fatty_df.reset_index(drop=True, inplace=False) ## prints len of 8 items\n",
    "# print(len(fatty_df), \"Items in fatty_df\") ## outputs 44 items\n",
    "fatty_df.reset_index(drop=True, inplace=False) ## prints len of 36 items\n",
    "# print(len(fatty_df), \"Items in fatty_df\") ## outputs 44 items\n",
    "fatty_print_df = fatty_df.drop(['Menu Category'], axis=1, inplace=False)\n",
    "# print(len(fatty_print_df), \"Items in fatty_df\") ## outputs 44 items\n",
    "\n",
    "fatty_print_df.sort_values(by='Total fat (g)', ascending=False, na_position='first', inplace=True)\n",
    "fatty_print_df = fatty_print_df.reset_index(drop=True, inplace=False)\n",
    "print(fatty_print_df.head(5))"
   ]
  },
  {
   "cell_type": "markdown",
   "metadata": {},
   "source": [
    "Above and below we can see the fattiest foods on the menu, both in aggregate and as percentage of serving size. One suriprising find above the veggie version of the \"Maharaja Mac\" actually contains more grams of fat than the Chicken version, who knew? From this we can also encourage consumers to look carefully into what's actually contained in their foods."
   ]
  },
  {
   "cell_type": "code",
   "execution_count": 195,
   "metadata": {},
   "outputs": [
    {
     "name": "stdout",
     "output_type": "stream",
     "text": [
      "                 Menu Items  Total fat (g)  Per Serve Size  Fat (%)\n",
      "0  Double Chocochips Muffin          17.28            80.0    21.60\n",
      "1    3 piece Chicken Strips          18.57            87.0    21.34\n",
      "2    2 piece Chicken Strips          12.38            58.0    21.34\n",
      "3     McSpicy Paneer Burger          39.45           199.0    19.82\n",
      "4    5 piece Chicken Strips          28.54           145.0    19.68\n"
     ]
    }
   ],
   "source": [
    "fatty_print_df.sort_values(by='Fat (%)', ascending=False, na_position='first', inplace=True)\n",
    "fatty_print_df = fatty_print_df.reset_index(drop=True, inplace=False)\n",
    "print(fatty_print_df.head(5))"
   ]
  },
  {
   "cell_type": "markdown",
   "metadata": {},
   "source": [
    "[Return to Top: Table of Contents](#table_contents)\n",
    "<a class=\"anchor\" id=\"section6\"></a>\n",
    "<h2 style=\"color: #808080; background-color:#9aa9a9; text-align:center; border: 3px solid #000000\"><span style=\"color:#670100; font-weight:800\">Question #3 Danger of Sodium</span></h2>\n",
    "\n",
    "<br/> Finally we'll take a look at an aspect of our food that could be uniquely dangerous: Sodium. Eating too much salty foods has been linked to a variety of illnesses like hyptertension and heart problems, especially when combined with a stressful lifestyle."
   ]
  },
  {
   "cell_type": "code",
   "execution_count": 196,
   "metadata": {},
   "outputs": [],
   "source": [
    "dataframe['Sodium (%)'] = round(dataframe['Sodium (mg)'] / dataframe['Per Serve Size'] / 10, 2)\n",
    "salty_lunch_df = dataframe[['Menu Category','Menu Items','Sodium (mg)', 'Per Serve Size', 'Sodium (%)']]\n",
    "salty_lunch_df = salty_lunch_df.loc[salty_lunch_df['Menu Category'] == ('Regular Menu')]\n",
    "salty_lunch_df = salty_lunch_df.iloc[:-4,]\n",
    "salty_breakfast_df = dataframe[['Menu Category','Menu Items','Sodium (mg)', 'Per Serve Size', 'Sodium (%)']]\n",
    "salty_breakfast_df = salty_breakfast_df.loc[salty_breakfast_df['Menu Category'] == ('Breakfast Menu')]\n",
    "salty_breakfast_df = salty_breakfast_df.iloc[:-7,]\n",
    "salty_print_df = pandas.concat([salty_breakfast_df, salty_lunch_df], axis=0, ignore_index=True)"
   ]
  },
  {
   "cell_type": "code",
   "execution_count": 197,
   "metadata": {},
   "outputs": [
    {
     "data": {
      "image/png": "[encoded data removed]",
      "text/plain": [
       "<Figure size 432x288 with 1 Axes>"
      ]
     },
     "metadata": {
      "needs_background": "dark"
     },
     "output_type": "display_data"
    }
   ],
   "source": [
    "x = numpy.array(salty_lunch_df['Sodium (mg)'])\n",
    "y = numpy.array(salty_lunch_df['Per Serve Size'])\n",
    "plt.scatter(x, y)\n",
    "plt.title(\"Some fries with your salt?\", fontweight=\"bold\", color=\"white\")\n",
    "plt.xlabel(\"Total Sodium in mgs\", fontweight=\"bold\", color=\"white\")\n",
    "plt.ylabel(\"Serving Size in grams\", fontweight=\"bold\", color=\"white\")\n",
    "plt.xticks(fontsize=10, color=\"white\")\n",
    "plt.yticks(fontsize=10, color=\"white\")\n",
    "plt.show()"
   ]
  },
  {
   "cell_type": "markdown",
   "metadata": {},
   "source": [
    "Let's find the top five dishes that contain the highest Sodium totals"
   ]
  },
  {
   "cell_type": "code",
   "execution_count": 198,
   "metadata": {
    "scrolled": true
   },
   "outputs": [
    {
     "name": "stdout",
     "output_type": "stream",
     "text": [
      "                 Menu Items  Sodium (mg)  Per Serve Size  Sodium (%)\n",
      "0  Ghee Rice with Mc Spi...      2399.49           325.0        0.74\n",
      "1      Chicken Maharaja Mac      1854.71           296.0        0.63\n",
      "2          Veg Maharaja Mac      1529.22           306.0        0.50\n",
      "3    5 piece Chicken Strips      1193.05           145.0        0.82\n",
      "4        Spicy Chicken Wrap      1152.38           257.0        0.45\n"
     ]
    }
   ],
   "source": [
    "salty_breakfast_df = salty_breakfast_df.reset_index(drop=True, inplace=False)\n",
    "salty_lunch_df = salty_lunch_df.reset_index(drop=True, inplace=False)\n",
    "salty_print_df = salty_print_df.drop(['Menu Category'], axis=1)\n",
    "salty_print_df.sort_values(by='Sodium (mg)', ascending=False, na_position='first', inplace=True)\n",
    "salty_print_df = salty_print_df.reset_index(drop=True, inplace=False)\n",
    "print(salty_print_df.head(5))"
   ]
  },
  {
   "cell_type": "markdown",
   "metadata": {},
   "source": [
    "Take look above at the \"Maharaja Macs\" I was pointing out earlier and we can see the chicken version contain's 25% more sodium than the veggie version.\n",
    "Also note the Ghee Rice dish, even tho it sounds tasty and that the serving size is eight percent larger than the chicken Maharaja Mac it also contains a whopping thirty percent more sodium. \n",
    "\n",
    "<bf/>In fact this might be a good moment take a quick sidetrip step away from the tables to take look at the serving sizes. Keeping an eye on serving sizes could help consumers stay trim and fit. Let's create a visual."
   ]
  },
  {
   "cell_type": "code",
   "execution_count": 236,
   "metadata": {},
   "outputs": [
    {
     "data": {
      "image/png": "[encoded data removed]",
      "text/plain": [
       "<Figure size 432x288 with 1 Axes>"
      ]
     },
     "metadata": {
      "needs_background": "dark"
     },
     "output_type": "display_data"
    }
   ],
   "source": [
    "serve_size_df = dataframe.loc[dataframe['Menu Category'] == ('Regular Menu')]\n",
    "serve_size_df = serve_size_df.loc[serve_size_df['Menu Items'] != ('L1 Coffee with milk')]\n",
    "serve_size_df = serve_size_df.loc[serve_size_df['Menu Items'] != ('L1 Coffee')] # don't care about bev's\n",
    "serve_size_df = serve_size_df.iloc[:-24,] ## removes all but the top-ten\n",
    "## print(len(bkfast_serve_size_df))\n",
    "serve_size_df.sort_values(by='Per Serve Size', ascending=False, na_position='first', inplace=True)\n",
    "serve_size_df = serve_size_df.reset_index(drop=True, inplace=False)\n",
    "serve_size_df = serve_size_df[['Menu Items', 'Per Serve Size']]\n",
    "## plt.hist(serve_size_df['Per Serve Size'], bins=bins, facecolor='blue', edgecolor='gray', rwidth=1, align='mid')\n",
    "y = numpy.array(serve_size_df['Per Serve Size'])\n",
    "x = numpy.array(serve_size_df['Menu Items'])\n",
    "plt.bar(x,y)\n",
    "plt.tight_layout()\n",
    "plt.title(\"Serving Sizes ranked from Top\", fontweight =\"bold\", color =\"white\")\n",
    "plt.xlabel(\"Rank\", fontweight =\"bold\", color =\"white\")\n",
    "plt.ylabel(\"Serving Size in grams\", fontweight =\"bold\", color =\"white\")\n",
    "plt.xticks(color =\"white\", rotation = 45)\n",
    "plt.yticks(fontsize= 10, color =\"white\")\n",
    "plt.show()"
   ]
  },
  {
   "cell_type": "markdown",
   "metadata": {},
   "source": [
    "As the has noticed"
   ]
  },
  {
   "cell_type": "code",
   "execution_count": null,
   "metadata": {},
   "outputs": [],
   "source": []
  },
  {
   "cell_type": "markdown",
   "metadata": {},
   "source": [
    "So even tho these chicken strips sound mighty tasty Indian consumers should definately consider limiting their intake of these items for they indeed are the saltiest items on the entire menu.\n",
    "<br/><br/>\n",
    "[Return to Top: Table of Contents](#table_contents)"
   ]
  }
 ],
 "metadata": {
  "kernelspec": {
   "display_name": "Python 3 (ipykernel)",
   "language": "python",
   "name": "python3"
  },
  "language_info": {
   "codemirror_mode": {
    "name": "ipython",
    "version": 3
   },
   "file_extension": ".py",
   "mimetype": "text/x-python",
   "name": "python",
   "nbconvert_exporter": "python",
   "pygments_lexer": "ipython3",
   "version": "3.9.7"
  },
  "vscode": {
   "interpreter": {
    "hash": "aee8b7b246df8f9039afb4144a1f6fd8d2ca17a180786b69acc140d282b71a49"
   }
  }
 },
 "nbformat": 4,
 "nbformat_minor": 2
}
