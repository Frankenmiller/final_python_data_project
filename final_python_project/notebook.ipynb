{
 "cells": [
  {
   "cell_type": "code",
   "execution_count": 6,
   "metadata": {},
   "outputs": [
    {
     "name": "stdout",
     "output_type": "stream",
     "text": [
      "  Menu Category              Menu Items Per Serve Size  Energy (kCal)  \\\n",
      "0  Regular Menu        McVeggie™ Burger          168 g         402.05   \n",
      "1  Regular Menu    McAloo Tikki Burger®          146 g         339.52   \n",
      "2  Regular Menu  McSpicy™ Paneer Burger          199 g         652.76   \n",
      "3  Regular Menu       Spicy Paneer Wrap          250 g         674.68   \n",
      "4  Regular Menu     American Veg Burger          177 g         512.17   \n",
      "\n",
      "   Protein (g)  Total fat (g)  Sat Fat (g)  Trans fat (g)  Cholesterols (mg)  \\\n",
      "0        10.24          13.83         5.34           0.16               2.49   \n",
      "1         8.50          11.31         4.27           0.20               1.47   \n",
      "2        20.29          39.45        17.12           0.18              21.85   \n",
      "3        20.96          39.10        19.73           0.26              40.93   \n",
      "4        15.30          23.45        10.51           0.17              25.24   \n",
      "\n",
      "   Total carbohydrate (g)  Total Sugars (g)  Added Sugars (g)  Sodium (mg)  \n",
      "0                   56.54              7.90              4.49       706.13  \n",
      "1                   50.27              7.05              4.07       545.34  \n",
      "2                   52.33              8.35              5.27      1074.58  \n",
      "3                   59.27              3.50              1.08      1087.46  \n",
      "4                   56.96              7.85              4.76      1051.24  \n"
     ]
    }
   ],
   "source": [
    "import pandas as pandas\n",
    "dataframe = pandas.read_csv('India_Menu.csv')\n",
    "print(dataframe.head(5))"
   ]
  }
 ],
 "metadata": {
  "kernelspec": {
   "display_name": "Python 3 (ipykernel)",
   "language": "python",
   "name": "python3"
  },
  "language_info": {
   "codemirror_mode": {
    "name": "ipython",
    "version": 3
   },
   "file_extension": ".py",
   "mimetype": "text/x-python",
   "name": "python",
   "nbconvert_exporter": "python",
   "pygments_lexer": "ipython3",
   "version": "3.9.7"
  },
  "vscode": {
   "interpreter": {
    "hash": "aee8b7b246df8f9039afb4144a1f6fd8d2ca17a180786b69acc140d282b71a49"
   }
  }
 },
 "nbformat": 4,
 "nbformat_minor": 2
}
