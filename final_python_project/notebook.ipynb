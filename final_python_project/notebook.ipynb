{
 "cells": [
  {
   "cell_type": "markdown",
   "metadata": {},
   "source": [
    "This is Bryan Allen's submission for IDB10's Final Porfolio for skills of Python-Jupyter-Pandas-GitHub programming. It is based on a popular database of nutrition data from McD's Menu Items in India! There are three Q's I am curious to know and will attempt to answer using data manipulation:\n",
    "1.) What is the most unhealthy item on the Menu(I.E. Which item(s) contain the most fat?\n",
    "2.) Which item(s) have the HIGHEST ratio of sugar to serving size?\n",
    "3.) Which item(s) have the HIGHEST ratio of sodium to serving size?\n",
    "I hope that some these insights can help our programmer friends on Indian sub-continent make healthy choices for themselves and for their familes, so that they can responsibly enjoy these unique Indian-American treats. Who knows, maybe some of them will choose to work with McDs in the future."
   ]
  },
  {
   "cell_type": "markdown",
   "metadata": {},
   "source": [
    "<a class=\"anchor\" id=\"table_contents\"></a>\n",
    "<h2 style=\"color: #808080; background-color:#9aa9a9; text-align:center; border: 3px solid #000000\"><span style=\"color:#670100; font-weight:800\">Table of Contents</span></h2>"
   ]
  },
  {
   "cell_type": "markdown",
   "metadata": {},
   "source": [
    "* [Section 1: Importing Necessary Libraries and Data](#section1)\n",
    "* [Section 2: Previewing Data](#section2)\n",
    "* [Section 3: Data Cleaning](#section3)\n",
    "* [Section 4: Question #1 Danger of Sugar](#section4)\n",
    "* [Section 5: Question #2 Danger of Fat](#section5)\n",
    "* [Section 6: Question #3 Danger of Sodium](#section6)\n",
    "* [Section 7: Building the Model](#section7)\n",
    "* [Section 8: Testing Custom Data](#section8)\n",
    "\n",
    "<a class=\"anchor\" id=\"section1\"></a>\n",
    "<h2 style=\"color: #808080; background-color:#9aa9a9; text-align:center; border: 3px solid #000000\"><span style=\"color:#670100; font-weight:800\">Importing Necessary Libraries and Data</span></h2>"
   ]
  },
  {
   "cell_type": "code",
   "execution_count": 151,
   "metadata": {},
   "outputs": [],
   "source": [
    "import pandas as pandas\n",
    "import numpy as numpy\n",
    "import matplotlib.pyplot as plt"
   ]
  },
  {
   "cell_type": "markdown",
   "metadata": {},
   "source": [
    "NOTE: My project contains modules and libraries that are named according to MY naming convetions, since I am owner of this Notebook. I'm aware that on teams the standard naming convention is to create abbreviated aliases, and so when I'm on those teams I'll defer to their conventions, but if the project is mine I will name the modules whatever looks the coolest.\n",
    "\n",
    "Some programmers have asked why I do this; aliases make everything kinda look the same to me to force me to strain looking at them, the same when I look at red on green background, so maybe it's a disconnect between the brain and the eye (indeed I do have a touch of that color blindness). But the simple answer is that python code is fun to type, and it's beautiful to look at, for me anyway.\n",
    "<br /><br />\n",
    "Bryan Allen, apprentice Data Engineer<br />\n",
    "Lusaka Zambia August 2022\n"
   ]
  },
  {
   "cell_type": "code",
   "execution_count": 152,
   "metadata": {},
   "outputs": [],
   "source": [
    "dataframe = pandas.read_csv('India_Menu.csv')"
   ]
  },
  {
   "cell_type": "markdown",
   "metadata": {},
   "source": [
    "<a class=\"anchor\" id=\"section2\"></a>\n",
    "<h2 style=\"color: #808080; background-color:#808080; text-align:center; border: 3px solid #000000\"><span style=\"color:#670100; font-weight:800\">Previewing Data</span></h2>\n",
    "\n",
    "Taking a look at the head and tail of our DB can quickly give us an idea how long and how wide is the DB we're working with. Also we'll get rough idea how much cleaning our data will require"
   ]
  },
  {
   "cell_type": "code",
   "execution_count": 153,
   "metadata": {},
   "outputs": [
    {
     "name": "stdout",
     "output_type": "stream",
     "text": [
      "  Menu Category            Menu Items Per Serve Size  Energy (kCal)  \\\n",
      "0  Regular Menu      McVeggie™ Burger          168 g         402.05   \n",
      "1  Regular Menu  McAloo Tikki Burger®          146 g         339.52   \n",
      "\n",
      "   Protein (g)  Total fat (g)  Sat Fat (g)  Trans fat (g)  Cholesterols (mg)  \\\n",
      "0        10.24          13.83         5.34           0.16               2.49   \n",
      "1         8.50          11.31         4.27           0.20               1.47   \n",
      "\n",
      "   Total carbohydrate (g)  Total Sugars (g)  Added Sugars (g)  Sodium (mg)  \n",
      "0                   56.54              7.90              4.49       706.13  \n",
      "1                   50.27              7.05              4.07       545.34  \n",
      "       Menu Category            Menu Items Per Serve Size  Energy (kCal)  \\\n",
      "139  Condiments Menu            Sweet Corn           40 g          45.08   \n",
      "140  Condiments Menu  Mixed Fruit Beverage         180 ml          72.25   \n",
      "\n",
      "     Protein (g)  Total fat (g)  Sat Fat (g)  Trans fat (g)  \\\n",
      "139         1.47           1.00         0.22           0.04   \n",
      "140         0.65           0.02         0.02           0.02   \n",
      "\n",
      "     Cholesterols (mg)  Total carbohydrate (g)  Total Sugars (g)  \\\n",
      "139               2.00                    7.55              2.54   \n",
      "140               0.01                   18.00             16.83   \n",
      "\n",
      "     Added Sugars (g)  Sodium (mg)  \n",
      "139               0.0         0.04  \n",
      "140               0.0        10.80  \n"
     ]
    }
   ],
   "source": [
    "print(dataframe.head(2))\n",
    "print(dataframe.tail(2))"
   ]
  },
  {
   "cell_type": "code",
   "execution_count": 154,
   "metadata": {},
   "outputs": [
    {
     "name": "stdout",
     "output_type": "stream",
     "text": [
      "There are 141 items in the dataframe\n",
      "\n",
      "While we're at it let's go ahead take look at our column headers as a list\n"
     ]
    },
    {
     "data": {
      "text/plain": [
       "['Menu Category',\n",
       " 'Menu Items',\n",
       " 'Per Serve Size',\n",
       " 'Energy (kCal)',\n",
       " 'Protein (g)',\n",
       " 'Total fat (g)',\n",
       " 'Sat Fat (g)',\n",
       " 'Trans fat (g)',\n",
       " 'Cholesterols (mg)',\n",
       " 'Total carbohydrate (g)',\n",
       " 'Total Sugars (g)',\n",
       " 'Added Sugars (g)',\n",
       " 'Sodium (mg)']"
      ]
     },
     "execution_count": 154,
     "metadata": {},
     "output_type": "execute_result"
    }
   ],
   "source": [
    "item_count = dataframe['Menu Items'].count()\n",
    "print(\"There are\", item_count, \"items in the dataframe\")\n",
    "print()\n",
    "print(\"While we're at it let's go ahead take look at our column headers as a list\")\n",
    "list(dataframe.columns)"
   ]
  },
  {
   "cell_type": "code",
   "execution_count": 199,
   "metadata": {},
   "outputs": [
    {
     "name": "stdout",
     "output_type": "stream",
     "text": [
      "There are 7 unique categories of menu items. Let's take look at them:\n",
      "McCafe Menu        51\n",
      "Regular Menu       36\n",
      "Beverages Menu     17\n",
      "Breakfast Menu     15\n",
      "Gourmet Menu       11\n",
      "Condiments Menu     9\n",
      "Desserts Menu       2\n",
      "Name: Menu Category, dtype: int64\n",
      "Hey, this looks like good opportunity create a Histogram! Let's visualize the dispersion of these categories\n"
     ]
    },
    {
     "data": {
      "image/png": "[encoded data removed]",
      "text/plain": [
       "<Figure size 432x288 with 1 Axes>"
      ]
     },
     "metadata": {
      "needs_background": "dark"
     },
     "output_type": "display_data"
    }
   ],
   "source": [
    "num_unique_cats = dataframe[\"Menu Category\"].nunique()\n",
    "print(\"There are\", num_unique_cats,\"unique categories of menu items. Let's take look at them:\")\n",
    "menu_cat_values = (dataframe[\"Menu Category\"].value_counts())\n",
    "print(menu_cat_values)\n",
    "print(\"Hey, this looks like good opportunity create a Histogram! Let's visualize the dispersion of these categories\")\n",
    "bins=[0,1,2,3,4,5,6,7]\n",
    "plt.hist(dataframe['Menu Category'], bins=bins, facecolor='blue', edgecolor='gray', rwidth=1, align='mid')\n",
    "## plt.tight_layout()\n",
    "plt.title(\"Dispersion of Menu Categories\", fontweight =\"bold\", color =\"white\")\n",
    "plt.xlabel(\"Number menu items in category\", fontweight =\"bold\", color =\"white\")\n",
    "plt.ylabel(\"Menu Categories\", fontweight =\"bold\", color =\"white\")\n",
    "plt.xticks(color =\"white\", rotation = 45)\n",
    "plt.yticks(fontsize= 10, color =\"white\")\n",
    "plt.show()"
   ]
  },
  {
   "cell_type": "markdown",
   "metadata": {},
   "source": [
    "[Return to Top: Table of Contents](#table_contents)\n",
    "<a class=\"anchor\" id=\"section3\"></a>\n",
    "<h2 style=\"color:#808080; background-color:#808080; text-align:center; border: 3px solid #000000\"><span style=\"color:#670100; font-weight:800\">Data Cleaning</span></h2>"
   ]
  },
  {
   "cell_type": "code",
   "execution_count": 156,
   "metadata": {},
   "outputs": [],
   "source": [
    "for col in list(dataframe.columns):\n",
    "    ## print(dataframe[col].str.replace(u\"\\u2122\",''))\n",
    "    dataframe[col] = dataframe[col].astype(str).str.replace(u\"\\u2122\",'')"
   ]
  },
  {
   "cell_type": "code",
   "execution_count": 157,
   "metadata": {},
   "outputs": [],
   "source": [
    "for col in list(dataframe.columns):\n",
    "    ## print(dataframe[col].str.replace(u\"\\u2122\",''))\n",
    "    dataframe[col] = dataframe[col].astype(str).str.replace(\"®\",'')"
   ]
  },
  {
   "cell_type": "code",
   "execution_count": 158,
   "metadata": {},
   "outputs": [],
   "source": [
    "for i in range(len(dataframe['Per Serve Size'])):\n",
    "    curr_cell = dataframe['Per Serve Size'][i]\n",
    "    curr_cell = curr_cell.split(' ')\n",
    "    dataframe['Per Serve Size'][i] = curr_cell[0]\n",
    "    i += 1"
   ]
  },
  {
   "cell_type": "code",
   "execution_count": 159,
   "metadata": {},
   "outputs": [
    {
     "name": "stdout",
     "output_type": "stream",
     "text": [
      "Total Sugars starts as type: object\n",
      "Serve Size starts as type: object\n",
      "Total fat starts as type: object\n",
      "Total Sodium starts as type: object\n",
      "- - - - - - - - - -  Making Conversion - - - - - - - - - - \n",
      "Column Total Sugars has been converted to type: float64\n",
      "Column Serve Size has been converted to type: float64\n",
      "Column Total fat has been converted to type: float64\n",
      "Column Total Sodium has been converted to type: float64\n"
     ]
    }
   ],
   "source": [
    "print(\"Total Sugars starts as type:\", dataframe['Total Sugars (g)'].dtype)\n",
    "print(\"Serve Size starts as type:\", dataframe['Per Serve Size'].dtype)\n",
    "print(\"Total fat starts as type:\", dataframe['Total fat (g)'].dtype)\n",
    "print(\"Total Sodium starts as type:\", dataframe['Sodium (mg)'].dtype)\n",
    "print(\"- \" * 10,\"Making Conversion\",\"- \" * 10)\n",
    "dataframe['Per Serve Size'] = dataframe['Per Serve Size'].astype(float)\n",
    "dataframe['Total Sugars (g)'] = dataframe['Total Sugars (g)'].astype(float)\n",
    "dataframe['Total fat (g)'] = dataframe['Total fat (g)'].astype(float)\n",
    "dataframe['Sodium (mg)'] = dataframe['Sodium (mg)'].astype(float)\n",
    "print(\"Column Total Sugars has been converted to type:\",dataframe['Total Sugars (g)'].dtype)\n",
    "print(\"Column Serve Size has been converted to type:\",dataframe['Per Serve Size'].dtype)\n",
    "print(\"Column Total fat has been converted to type:\",dataframe['Total fat (g)'].dtype)\n",
    "print(\"Column Total Sodium has been converted to type:\",dataframe['Sodium (mg)'].dtype)"
   ]
  },
  {
   "cell_type": "code",
   "execution_count": 169,
   "metadata": {},
   "outputs": [],
   "source": [
    "## print(dataframe.head(5))"
   ]
  },
  {
   "cell_type": "markdown",
   "metadata": {},
   "source": [
    "[Return to Top: Table of Contents](#table_contents)\n",
    "<a class=\"anchor\" id=\"section4\"></a>\n",
    "<h2 style=\"color: #808080; background-color:#9aa9a9; text-align:center; border: 3px solid #000000\"><span style=\"color:#670100; font-weight:800\">Question #1 Danger of Sugar</span></h2>\n",
    "\n",
    "What item has HIGHEST ratio of sugar to serving size?\n",
    "In order try answer this Q I will utilize a scatterplot, with serving\n",
    "size for x-axis and sugars on the y-axis. Later I will do some arithmetic\n",
    "to calculate the respecive ratios but first let's visualize that data!"
   ]
  },
  {
   "cell_type": "code",
   "execution_count": 161,
   "metadata": {},
   "outputs": [
    {
     "data": {
      "image/png": "[encoded data removed]",
      "text/plain": [
       "<Figure size 432x288 with 1 Axes>"
      ]
     },
     "metadata": {
      "needs_background": "dark"
     },
     "output_type": "display_data"
    }
   ],
   "source": [
    "dataframe['grams sugar/mL'] = round(dataframe['Total Sugars (g)'] / dataframe['Per Serve Size'] * 100, 2)\n",
    "soda_df = dataframe[['Menu Category','Menu Items','Total Sugars (g)', 'Per Serve Size', 'grams sugar/mL']]\n",
    "coffee_df = dataframe[['Menu Category','Menu Items','Total Sugars (g)', 'Per Serve Size', 'grams sugar/mL']]\n",
    "soda_df = soda_df.loc[soda_df['Menu Category'] == ('Beverages Menu')]\n",
    "coffee_df = coffee_df.loc[coffee_df['Menu Category'] == ('McCafe Menu')]\n",
    "beverage_df = pandas.concat([soda_df, coffee_df], axis=1)\n",
    "x = numpy.array(beverage_df['Total Sugars (g)'])\n",
    "y = numpy.array(beverage_df['Per Serve Size'])\n",
    "plt.scatter(x, y)\n",
    "plt.title(\"Gimme some Sugar!\", fontweight =\"bold\", color =\"white\")\n",
    "plt.xlabel(\"Total Sugars in grams\", fontweight =\"bold\", color =\"white\")\n",
    "plt.ylabel(\"Serving Size in mL\", fontweight =\"bold\", color =\"white\")\n",
    "plt.xticks(fontsize= 10, color =\"white\")\n",
    "plt.yticks(fontsize= 10, color =\"white\")\n",
    "plt.show()\n"
   ]
  },
  {
   "cell_type": "code",
   "execution_count": 162,
   "metadata": {},
   "outputs": [
    {
     "data": {
      "image/png": "[encoded data removed]",
      "text/plain": [
       "<Figure size 432x288 with 1 Axes>"
      ]
     },
     "metadata": {
      "needs_background": "dark"
     },
     "output_type": "display_data"
    }
   ],
   "source": [
    "## @Dev I want to combine these two scatterplots, for Sodas and for McCafe drinks\n",
    "## if you've got any good ideas how concat them or do overlay, and would be even cooler\n",
    "## if could make coffee/soda different colors, to make it more visual which drinks are at the extremes\n",
    "coffee_df = dataframe[['Menu Category','Menu Items','Total Sugars (g)', 'Per Serve Size', 'grams sugar/mL']]\n",
    "coffee_df = coffee_df.loc[coffee_df['Menu Category'] == ('McCafe Menu')]\n",
    "x = numpy.array(coffee_df['Total Sugars (g)'])\n",
    "y = numpy.array(coffee_df['Per Serve Size'])\n",
    "plt.scatter(x, y)\n",
    "plt.title(\"Gimme some Sugar!\", fontweight =\"bold\", color =\"white\")\n",
    "plt.xlabel(\"Total Sugars in grams\", fontweight =\"bold\", color =\"white\")\n",
    "plt.ylabel(\"Serving Size in mL\", fontweight =\"bold\", color =\"white\")\n",
    "plt.xticks(fontsize= 10, color =\"white\")\n",
    "plt.yticks(fontsize= 10, color =\"white\")\n",
    "plt.show()"
   ]
  },
  {
   "cell_type": "code",
   "execution_count": 163,
   "metadata": {
    "scrolled": true
   },
   "outputs": [
    {
     "name": "stdout",
     "output_type": "stream",
     "text": [
      "                      Menu Items  Total Sugars (g)  Per Serve Size  \\\n",
      "0                Small Coca-Cola             27.39          299.00   \n",
      "1               Medium Coca-Cola             37.84          394.00   \n",
      "2                Large Coca-Cola             54.34          544.00   \n",
      "3             Small Fanta Oragne             32.37          299.00   \n",
      "4            Medium Fanta Orange             44.72          394.00   \n",
      "5             Large Fanta Oragne             64.22          544.00   \n",
      "6                 Small Thums-up             24.90          299.00   \n",
      "7                Medium Thums-up             34.40          394.00   \n",
      "8                 Large Thums-up             49.40          544.00   \n",
      "9                   Small Sprite             29.88          299.00   \n",
      "10                 Medium Sprite             41.28          394.00   \n",
      "11                  Large Sprite             59.28          544.00   \n",
      "12                    Coke Float             28.23          286.79   \n",
      "13                   Fanta Float             31.43          286.79   \n",
      "14                  Sprite Float             29.83          286.79   \n",
      "15                 Coke Zero Can              0.00          330.00   \n",
      "16  Vedica Natural Mineral Water              0.00          500.00   \n",
      "0                 Cappuccino (L)             14.45          355.00   \n",
      "1                      Latte (S)             10.06          236.50   \n",
      "2                      Latte (R)             12.52          307.50   \n",
      "3                      Latte (L)             15.40          375.00   \n",
      "4                 Flat White (S)             11.47          266.50   \n",
      "5                 Flat White (R)             14.41          347.50   \n",
      "6                 Flat White (L)             16.81          405.00   \n",
      "7                      Mocha (S)             17.57          242.50   \n",
      "\n",
      "    grams sugar/mL  \n",
      "0             9.16  \n",
      "1             9.60  \n",
      "2             9.99  \n",
      "3            10.83  \n",
      "4            11.35  \n",
      "5            11.81  \n",
      "6             8.33  \n",
      "7             8.73  \n",
      "8             9.08  \n",
      "9             9.99  \n",
      "10           10.48  \n",
      "11           10.90  \n",
      "12            9.84  \n",
      "13           10.96  \n",
      "14           10.40  \n",
      "15            0.00  \n",
      "16            0.00  \n",
      "0             4.07  \n",
      "1             4.25  \n",
      "2             4.07  \n",
      "3             4.11  \n",
      "4             4.30  \n",
      "5             4.15  \n",
      "6             4.15  \n",
      "7             7.25  \n"
     ]
    }
   ],
   "source": [
    "## print(dataframe.head(25))\n",
    "dataframe['grams sugar/mL'] = round(dataframe['Total Sugars (g)'] / dataframe['Per Serve Size'] * 100, 2)\n",
    "soda_df = dataframe[['Menu Category','Menu Items','Total Sugars (g)', 'Per Serve Size', 'grams sugar/mL']]\n",
    "soda_df = soda_df.loc[soda_df['Menu Category'] == ('Beverages Menu')]\n",
    "coffee_df = dataframe[['Menu Category','Menu Items','Total Sugars (g)', 'Per Serve Size', 'grams sugar/mL']]\n",
    "coffee_df = coffee_df.loc[coffee_df['Menu Category'] == ('McCafe Menu')]\n",
    "coffee_df.reset_index(drop=True, inplace=True)\n",
    "soda_df.reset_index(drop=False, inplace=True)\n",
    "## print(soda_df.head(2))\n",
    "## print(coffee_df.head(2))\n",
    "\n",
    "## @DEV: Help me a moment please! Can see the four lines from two print statements lines 6-7 they\n",
    "## look fine but when I try concating them printing below all cells become NaN's. Maybe need do\n",
    "## .reset_index() function what you think?\n",
    "\n",
    "bevrage_df_print = pandas.concat([soda_df, coffee_df], axis=0)\n",
    "bevrage_df_print = bevrage_df_print[['Menu Items','Total Sugars (g)', 'Per Serve Size', 'grams sugar/mL']]\n",
    "print(bevrage_df_print.head(25))"
   ]
  },
  {
   "cell_type": "markdown",
   "metadata": {},
   "source": [
    "[Return to Top: Table of Contents](#table_contents)\n",
    "<a class=\"anchor\" id=\"section5\"></a>\n",
    "<h2 style=\"color: #808080; background-color:#9aa9a9; text-align:center; border: 3px solid #000000\"><span style=\"color:#670100; font-weight:800\">Question #2 Danger of Fat</span></h2>"
   ]
  },
  {
   "cell_type": "code",
   "execution_count": 164,
   "metadata": {},
   "outputs": [
    {
     "data": {
      "image/png": "[encoded data removed]",
      "text/plain": [
       "<Figure size 432x288 with 1 Axes>"
      ]
     },
     "metadata": {
      "needs_background": "dark"
     },
     "output_type": "display_data"
    }
   ],
   "source": [
    "x = numpy.array(dataframe['Total fat (g)'])\n",
    "y = numpy.array(dataframe['Per Serve Size'])\n",
    "plt.scatter(x, y)\n",
    "plt.title(\"Fat is Beautiful?\", fontweight =\"bold\", color =\"white\")\n",
    "plt.xlabel(\"Total Fat in grams\", fontweight =\"bold\", color =\"white\")\n",
    "plt.ylabel(\"Serving Size in grams\", fontweight =\"bold\", color =\"white\")\n",
    "plt.xticks(fontsize= 10, color =\"white\")\n",
    "plt.yticks(fontsize= 10, color =\"white\")\n",
    "plt.show()"
   ]
  },
  {
   "cell_type": "code",
   "execution_count": 165,
   "metadata": {},
   "outputs": [
    {
     "name": "stdout",
     "output_type": "stream",
     "text": [
      "36\n",
      "8\n",
      "36\n",
      "    index                                  Menu Items  Total fat (g)  \\\n",
      "0       0                             McVeggie Burger          13.83   \n",
      "1       1                         McAloo Tikki Burger          11.31   \n",
      "2       2                       McSpicy Paneer Burger          39.45   \n",
      "3       3                           Spicy Paneer Wrap          39.10   \n",
      "4       4                         American Veg Burger          23.45   \n",
      "5       5                            Veg Maharaja Mac          37.94   \n",
      "6       6                      Green Chilli Aloo Naan          15.08   \n",
      "7       7                                  Pizza Puff          11.44   \n",
      "8       8                           Mc chicken Burger          15.70   \n",
      "9       9                        FILLET-O-FISH Burger          14.16   \n",
      "10     10                     Mc Spicy Chicken Burger          19.36   \n",
      "11     11                          Spicy Chicken Wrap          26.89   \n",
      "12     12                        Chicken Maharaja Mac          36.69   \n",
      "13     13                     American Chicken Burger          22.94   \n",
      "14     14                        Chicken Kebab Burger          14.02   \n",
      "15     15                     Green Chilli Kebab naan           9.32   \n",
      "16     16                        Mc Egg Masala Burger          12.27   \n",
      "17     17                Mc Egg Burger for Happy Meal          12.21   \n",
      "18     18  Ghee Rice with Mc Spicy Fried Chicken 1 pc          29.20   \n",
      "19     19                  McSpicy Fried Chicken 1 pc          14.29   \n",
      "20     20                   4 piece Chicken McNuggets           9.54   \n",
      "21     21                   6 piece Chicken McNuggets          14.30   \n",
      "22     22                   9 piece Chicken McNuggets          21.46   \n",
      "23     23                      2 piece Chicken Strips          12.38   \n",
      "24     24                      3 piece Chicken Strips          18.57   \n",
      "\n",
      "    Per Serve Size  Percentage Fat                  Menu Items  Total fat (g)  \\\n",
      "0            168.0            8.23                Veg McMuffin          11.78   \n",
      "1            146.0            7.75      Double Cheese McMuffin          12.82   \n",
      "2            199.0           19.82          Spicy Egg McMuffin          11.81   \n",
      "3            250.0           15.64           Sausage Mc Muffin          10.81   \n",
      "4            177.0           13.25  Sausage Mc Muffin with egg          15.94   \n",
      "5            306.0           12.40                Egg McMuffin          12.31   \n",
      "6            132.0           11.42   Hot Cake with maple syrup          14.02   \n",
      "7             87.0           13.15                  Hash Brown           7.32   \n",
      "8            173.0            9.08                         NaN            NaN   \n",
      "9            136.0           10.41                         NaN            NaN   \n",
      "10           186.0           10.41                         NaN            NaN   \n",
      "11           257.0           10.46                         NaN            NaN   \n",
      "12           296.0           12.40                         NaN            NaN   \n",
      "13           165.0           13.90                         NaN            NaN   \n",
      "14           138.0           10.16                         NaN            NaN   \n",
      "15           138.0            6.75                         NaN            NaN   \n",
      "16           126.2            9.72                         NaN            NaN   \n",
      "17           123.0            9.93                         NaN            NaN   \n",
      "18           325.0            8.98                         NaN            NaN   \n",
      "19           115.0           12.43                         NaN            NaN   \n",
      "20            64.0           14.91                         NaN            NaN   \n",
      "21            96.0           14.90                         NaN            NaN   \n",
      "22           144.0           14.90                         NaN            NaN   \n",
      "23            58.0           21.34                         NaN            NaN   \n",
      "24            87.0           21.34                         NaN            NaN   \n",
      "\n",
      "    Per Serve Size  Percentage Fat  \n",
      "0            119.0            9.90  \n",
      "1            100.0           12.82  \n",
      "2            123.2            9.59  \n",
      "3            112.0            9.65  \n",
      "4            157.0           10.15  \n",
      "5            112.0           10.99  \n",
      "6            142.0            9.87  \n",
      "7             64.0           11.44  \n",
      "8              NaN             NaN  \n",
      "9              NaN             NaN  \n",
      "10             NaN             NaN  \n",
      "11             NaN             NaN  \n",
      "12             NaN             NaN  \n",
      "13             NaN             NaN  \n",
      "14             NaN             NaN  \n",
      "15             NaN             NaN  \n",
      "16             NaN             NaN  \n",
      "17             NaN             NaN  \n",
      "18             NaN             NaN  \n",
      "19             NaN             NaN  \n",
      "20             NaN             NaN  \n",
      "21             NaN             NaN  \n",
      "22             NaN             NaN  \n",
      "23             NaN             NaN  \n",
      "24             NaN             NaN  \n"
     ]
    }
   ],
   "source": [
    "dataframe['Percentage Fat'] = round(dataframe['Total fat (g)'] / dataframe['Per Serve Size'] * 100, 2)\n",
    "breakfast_df = dataframe[['Menu Category','Menu Items','Total fat (g)', 'Per Serve Size', 'Percentage Fat']]\n",
    "breakfast_df = breakfast_df.loc[breakfast_df['Menu Category'] == ('Breakfast Menu')]\n",
    "breakfast_df = breakfast_df.iloc[:-7,] ## removes coffee drinks\n",
    "lunch_df = dataframe[['Menu Category','Menu Items','Total fat (g)', 'Per Serve Size', 'Percentage Fat']]\n",
    "lunch_df = lunch_df.loc[lunch_df['Menu Category'] == ('Regular Menu')]\n",
    "print(len(lunch_df)) ## prints len of 36 items\n",
    "## print(lunch_df.head(25))\n",
    "print(len(breakfast_df)) ## prints len of 8 items\n",
    "## print(breakfast_df)\n",
    "breakfast_df.reset_index(drop=True, inplace=True)\n",
    "lunch_df.reset_index(drop=False, inplace=True)\n",
    "fatty_df = pandas.concat([lunch_df, breakfast_df], axis=1)\n",
    "fatty_df.drop(['Menu Category'], axis=1, inplace=True)\n",
    "print(len(fatty_df)) ## prints len of 36 items\n",
    "print(fatty_df.head(25))"
   ]
  },
  {
   "cell_type": "markdown",
   "metadata": {},
   "source": [
    "[Return to Top: Table of Contents](#table_contents)\n",
    "<a class=\"anchor\" id=\"section6\"></a>\n",
    "<h2 style=\"color: #808080; background-color:#9aa9a9; text-align:center; border: 3px solid #000000\"><span style=\"color:#670100; font-weight:800\">Question #3 Danger of Sodium</span></h2>"
   ]
  },
  {
   "cell_type": "code",
   "execution_count": 166,
   "metadata": {},
   "outputs": [
    {
     "data": {
      "image/png": "[encoded data removed]",
      "text/plain": [
       "<Figure size 432x288 with 1 Axes>"
      ]
     },
     "metadata": {
      "needs_background": "dark"
     },
     "output_type": "display_data"
    }
   ],
   "source": [
    "x = numpy.array(dataframe['Total Sugars (g)'])\n",
    "y = numpy.array(dataframe['Per Serve Size'])\n",
    "plt.scatter(x, y)\n",
    "plt.title(\"Some fries with your salt?\", fontweight =\"bold\", color =\"white\")\n",
    "plt.xlabel(\"Total Sodium in mgs\", fontweight =\"bold\", color =\"white\")\n",
    "plt.ylabel(\"Serving Size in grams\", fontweight =\"bold\", color =\"white\")\n",
    "plt.xticks(fontsize= 10, color =\"white\")\n",
    "plt.yticks(fontsize= 10, color =\"white\")\n",
    "plt.show()"
   ]
  },
  {
   "cell_type": "code",
   "execution_count": 168,
   "metadata": {},
   "outputs": [
    {
     "name": "stdout",
     "output_type": "stream",
     "text": [
      "141\n"
     ]
    }
   ],
   "source": [
    "dataframe['Percentage Sodium'] = round(dataframe['Sodium (mg)'] / dataframe['Per Serve Size'] / 10, 2)\n",
    "salty_lunch_df = dataframe[['Menu Category','Menu Items','Sodium (mg)', 'Per Serve Size', 'Percentage Sodium']]\n",
    "## print(len(salty_lunch_df)) ## prints len 141 items to console\n",
    "\n",
    "salty_lunch_df = salty_lunch_df.loc[salty_lunch_df['Menu Category'] == ('Regular Menu')]\n",
    "## print(len(salty_lunch_df)) ## prints len 36 items to console\n",
    "\n",
    "salty_lunch_df = salty_lunch_df.iloc[:-4,] ## removes misc lunch drinks box milk\n",
    "## print(len(salty_lunch_df)) ## prints len 32 items to console\n",
    "\n",
    "salty_breakfast_df = dataframe[['Menu Category','Menu Items','Sodium (mg)', 'Per Serve Size', 'Percentage Sodium']]\n",
    "salty_breakfast_df = salty_breakfast_df.loc[salty_breakfast_df['Menu Category'] == ('Breakfast Menu')]\n",
    "salty_breakfast_df = salty_breakfast_df.iloc[:-7,] ## removes coffee drinks\n",
    "salty_breakfast_df.reset_index(drop=False, inplace=True)\n",
    "salty_lunch_df.reset_index(drop=False, inplace=True)\n",
    "\n",
    "## print(len(salty_breakfast_df)) ## prints len 8 items to console\n",
    "## print(len(salty_lunch_df)) ## prints len 32 items to console\n",
    "\n",
    "salty_print_df = pandas.concat([salty_breakfast_df, salty_lunch_df], axis=0)\n",
    "print(len(print_salty_df)) ## prints len 141 items to console! Seems should only be 40\n",
    "############################## items in length? I have this bug in other parts my project"
   ]
  }
 ],
 "metadata": {
  "kernelspec": {
   "display_name": "Python 3 (ipykernel)",
   "language": "python",
   "name": "python3"
  },
  "language_info": {
   "codemirror_mode": {
    "name": "ipython",
    "version": 3
   },
   "file_extension": ".py",
   "mimetype": "text/x-python",
   "name": "python",
   "nbconvert_exporter": "python",
   "pygments_lexer": "ipython3",
   "version": "3.9.7"
  },
  "vscode": {
   "interpreter": {
    "hash": "aee8b7b246df8f9039afb4144a1f6fd8d2ca17a180786b69acc140d282b71a49"
   }
  }
 },
 "nbformat": 4,
 "nbformat_minor": 2
}
