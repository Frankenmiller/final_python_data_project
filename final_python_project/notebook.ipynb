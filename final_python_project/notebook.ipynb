{
 "cells": [
  {
   "cell_type": "markdown",
   "metadata": {},
   "source": [
    "This is Bryan Allen's submission for IDB10's Final Porfolio for skills of Python-Jupyter-Pandas-GitHub programming. It is based on a popular database of nutrition data from McD's Menu Items in India! There are three Q's I am curious to know and will attempt to answer using data manipulation:\n",
    "1.) What is the most unhealthy item on the Menu(I.E. Which item(s) contain the most fat?\n",
    "2.) Which item(s) have the HIGHEST ratio of sugar to serving size?\n",
    "3.) Which item(s) have the HIGHEST ratio of sodium to serving size?\n",
    "I hope that some these insights can help our programmer friends on Indian sub-continent make healthy choices for themselves and for their familes, so that they can responsibly enjoy these unique Indian-American treats. Who knows, maybe some of them will choose to work with McDs in the future."
   ]
  },
  {
   "cell_type": "markdown",
   "metadata": {},
   "source": [
    "<a class=\"anchor\" id=\"table_contents\"></a>\n",
    "<h2 style=\"color: #808080; background-color:#9aa9a9; text-align:center; border: 3px solid #000000\"><span style=\"color:#670100; font-weight:800\">Table of Contents</span></h2>"
   ]
  },
  {
   "cell_type": "markdown",
   "metadata": {},
   "source": [
    "* [Section 1: Importing Necessary Libraries and Data](#section1)\n",
    "* [Section 2: Previewing Data](#section2)\n",
    "* [Section 3: Data Cleaning](#section3)\n",
    "* [Section 4: Question #1 Danger of Sugar](#section4)\n",
    "* [Section 5: Question #2 Danger of Fat](#section5)\n",
    "* [Section 6: Question #3 Danger of Sodium](#section6)\n",
    "* [Section 7: Building the Model](#section7)\n",
    "* [Section 8: Testing Custom Data](#section8)\n",
    "\n",
    "<a class=\"anchor\" id=\"section1\"></a>\n",
    "<h2 style=\"color: #808080; background-color:#9aa9a9; text-align:center; border: 3px solid #000000\"><span style=\"color:#670100; font-weight:800\">Importing Necessary Libraries and Data</span></h2>"
   ]
  },
  {
   "cell_type": "code",
   "execution_count": 164,
   "metadata": {},
   "outputs": [],
   "source": [
    "import pandas as pandas\n",
    "import numpy as numpy\n",
    "import matplotlib.pyplot as plt"
   ]
  },
  {
   "cell_type": "markdown",
   "metadata": {},
   "source": [
    "NOTE: My project contains modules and libraries that are named according to MY naming convetions, since I am owner of this Notebook. I'm aware that on teams the standard naming convention is to create abbreviated aliases, and so when I'm on those teams I'll defer to their conventions, but if the project is mine I will name the modules whatever looks the coolest.\n",
    "\n",
    "Some programmers have asked why I do this; aliases make everything kinda look the same to me to force me to strain looking at them, the same when I look at red on green background, so maybe it's a disconnect between the brain and the eye (indeed I do have a touch of that color blindness). But the simple answer is that python code is fun to type, and it's beautiful to look at, for me anyway.\n",
    "<br /><br />\n",
    "Bryan Allen, apprentice Data Engineer<br />\n",
    "Lusaka Zambia August 2022\n"
   ]
  },
  {
   "cell_type": "code",
   "execution_count": 165,
   "metadata": {},
   "outputs": [],
   "source": [
    "dataframe = pandas.read_csv('India_Menu.csv')"
   ]
  },
  {
   "cell_type": "markdown",
   "metadata": {},
   "source": [
    "<a class=\"anchor\" id=\"section2\"></a>\n",
    "<h2 style=\"color: #808080; background-color:#808080; text-align:center; border: 3px solid #000000\"><span style=\"color:#670100; font-weight:800\">Previewing Data</span></h2>\n",
    "\n",
    "Taking a look at the head and tail of our DB can quickly give us an idea how long and how wide is the DB we're working with. Also we'll get rough idea how much cleaning our data will require"
   ]
  },
  {
   "cell_type": "code",
   "execution_count": 166,
   "metadata": {},
   "outputs": [
    {
     "name": "stdout",
     "output_type": "stream",
     "text": [
      "  Menu Category            Menu Items Per Serve Size  Energy (kCal)  \\\n",
      "0  Regular Menu      McVeggie™ Burger          168 g         402.05   \n",
      "1  Regular Menu  McAloo Tikki Burger®          146 g         339.52   \n",
      "\n",
      "   Protein (g)  Total fat (g)  Sat Fat (g)  Trans fat (g)  Cholesterols (mg)  \\\n",
      "0        10.24          13.83         5.34           0.16               2.49   \n",
      "1         8.50          11.31         4.27           0.20               1.47   \n",
      "\n",
      "   Total carbohydrate (g)  Total Sugars (g)  Added Sugars (g)  Sodium (mg)  \n",
      "0                   56.54              7.90              4.49       706.13  \n",
      "1                   50.27              7.05              4.07       545.34  \n",
      "       Menu Category            Menu Items Per Serve Size  Energy (kCal)  \\\n",
      "139  Condiments Menu            Sweet Corn           40 g          45.08   \n",
      "140  Condiments Menu  Mixed Fruit Beverage         180 ml          72.25   \n",
      "\n",
      "     Protein (g)  Total fat (g)  Sat Fat (g)  Trans fat (g)  \\\n",
      "139         1.47           1.00         0.22           0.04   \n",
      "140         0.65           0.02         0.02           0.02   \n",
      "\n",
      "     Cholesterols (mg)  Total carbohydrate (g)  Total Sugars (g)  \\\n",
      "139               2.00                    7.55              2.54   \n",
      "140               0.01                   18.00             16.83   \n",
      "\n",
      "     Added Sugars (g)  Sodium (mg)  \n",
      "139               0.0         0.04  \n",
      "140               0.0        10.80  \n"
     ]
    }
   ],
   "source": [
    "print(dataframe.head(2))\n",
    "print(dataframe.tail(2))"
   ]
  },
  {
   "cell_type": "code",
   "execution_count": 167,
   "metadata": {},
   "outputs": [
    {
     "name": "stdout",
     "output_type": "stream",
     "text": [
      "There are 141 items in the dataframe\n",
      "\n",
      "While we're at it let's go ahead take look at our column headers as a list\n"
     ]
    },
    {
     "data": {
      "text/plain": [
       "['Menu Category',\n",
       " 'Menu Items',\n",
       " 'Per Serve Size',\n",
       " 'Energy (kCal)',\n",
       " 'Protein (g)',\n",
       " 'Total fat (g)',\n",
       " 'Sat Fat (g)',\n",
       " 'Trans fat (g)',\n",
       " 'Cholesterols (mg)',\n",
       " 'Total carbohydrate (g)',\n",
       " 'Total Sugars (g)',\n",
       " 'Added Sugars (g)',\n",
       " 'Sodium (mg)']"
      ]
     },
     "execution_count": 167,
     "metadata": {},
     "output_type": "execute_result"
    }
   ],
   "source": [
    "item_count = dataframe['Menu Items'].count()\n",
    "print(\"There are\", item_count, \"items in the dataframe\")\n",
    "print()\n",
    "print(\"While we're at it let's go ahead take look at our column headers as a list\")\n",
    "list(dataframe.columns)"
   ]
  },
  {
   "cell_type": "code",
   "execution_count": 168,
   "metadata": {},
   "outputs": [
    {
     "name": "stdout",
     "output_type": "stream",
     "text": [
      "There are 7 unique categories of menu items. Let's take look at them:\n",
      "McCafe Menu        51\n",
      "Regular Menu       36\n",
      "Beverages Menu     17\n",
      "Breakfast Menu     15\n",
      "Gourmet Menu       11\n",
      "Condiments Menu     9\n",
      "Desserts Menu       2\n",
      "Name: Menu Category, dtype: int64\n",
      "\n",
      "Hey, this looks like good opportunity create a Histogram!\n",
      "Let's visualize the dispersion of these categories\n",
      "\n"
     ]
    }
   ],
   "source": [
    "num_unique_cats = dataframe[\"Menu Category\"].nunique()\n",
    "print(\"There are\", num_unique_cats,\"unique categories of menu items. Let's take look at them:\")\n",
    "print(dataframe[\"Menu Category\"].value_counts())\n",
    "print()\n",
    "print(\"Hey, this looks like good opportunity create a Histogram!\")\n",
    "print(\"Let's visualize the dispersion of these categories\")\n",
    "print()\n",
    "menu_cat_values = (dataframe[\"Menu Category\"].value_counts())\n",
    "## dataframe.plot.hist(menu_cat_values.astype(int))\n",
    "## dataframe.plot.hist(num_unique_cats)\n",
    "## print(menu_cat_values)"
   ]
  },
  {
   "cell_type": "markdown",
   "metadata": {},
   "source": [
    "[Return to Top: Table of Contents](#table_contents)\n",
    "<a class=\"anchor\" id=\"section3\"></a>\n",
    "<h2 style=\"color:#808080; background-color:#808080; text-align:center; border: 3px solid #000000\"><span style=\"color:#670100; font-weight:800\">Data Cleaning</span></h2>"
   ]
  },
  {
   "cell_type": "code",
   "execution_count": 169,
   "metadata": {},
   "outputs": [],
   "source": [
    "for col in list(dataframe.columns):\n",
    "    ## print(dataframe[col].str.replace(u\"\\u2122\",''))\n",
    "    dataframe[col] = dataframe[col].astype(str).str.replace(u\"\\u2122\",'')"
   ]
  },
  {
   "cell_type": "code",
   "execution_count": 170,
   "metadata": {},
   "outputs": [],
   "source": [
    "for col in list(dataframe.columns):\n",
    "    ## print(dataframe[col].str.replace(u\"\\u2122\",''))\n",
    "    dataframe[col] = dataframe[col].astype(str).str.replace(\"®\",'')"
   ]
  },
  {
   "cell_type": "code",
   "execution_count": 171,
   "metadata": {},
   "outputs": [],
   "source": [
    "for i in range(len(dataframe['Per Serve Size'])):\n",
    "    curr_cell = dataframe['Per Serve Size'][i]\n",
    "    curr_cell = curr_cell.split(' ')\n",
    "    dataframe['Per Serve Size'][i] = curr_cell[0]\n",
    "    i += 1"
   ]
  },
  {
   "cell_type": "code",
   "execution_count": 212,
   "metadata": {},
   "outputs": [
    {
     "name": "stdout",
     "output_type": "stream",
     "text": [
      "Total Sugars starts as type: float64\n",
      "Serve Size starts as type: float64\n",
      "Total fat starts as type: float64\n",
      "Total Sodium starts as type: float64\n",
      "- - - - - - - - - -  Making Conversion - - - - - - - - - - \n",
      "Column Total Sugars has been converted to type: float64\n",
      "Column Serve Size has been converted to type: float64\n",
      "Column Total fat has been converted to type: float64\n",
      "Column Total Sodium has been converted to type: float64\n"
     ]
    }
   ],
   "source": [
    "print(\"Total Sugars starts as type:\", dataframe['Total Sugars (g)'].dtype)\n",
    "print(\"Serve Size starts as type:\", dataframe['Per Serve Size'].dtype)\n",
    "print(\"Total fat starts as type:\", dataframe['Total fat (g)'].dtype)\n",
    "print(\"Total Sodium starts as type:\", dataframe['Sodium (mg)'].dtype)\n",
    "print(\"- \" * 10,\"Making Conversion\",\"- \" * 10)\n",
    "dataframe['Per Serve Size'] = dataframe['Per Serve Size'].astype(float)\n",
    "dataframe['Total Sugars (g)'] = dataframe['Total Sugars (g)'].astype(float)\n",
    "dataframe['Total fat (g)'] = dataframe['Total fat (g)'].astype(float)\n",
    "dataframe['Sodium (mg)'] = dataframe['Sodium (mg)'].astype(float)\n",
    "print(\"Column Total Sugars has been converted to type:\",dataframe['Total Sugars (g)'].dtype)\n",
    "print(\"Column Serve Size has been converted to type:\",dataframe['Per Serve Size'].dtype)\n",
    "print(\"Column Total fat has been converted to type:\",dataframe['Total fat (g)'].dtype)\n",
    "print(\"Column Total Sodium has been converted to type:\",dataframe['Sodium (mg)'].dtype)"
   ]
  },
  {
   "cell_type": "code",
   "execution_count": 213,
   "metadata": {},
   "outputs": [
    {
     "name": "stdout",
     "output_type": "stream",
     "text": [
      "  Menu Category             Menu Items  Per Serve Size Energy (kCal)  \\\n",
      "0  Regular Menu        McVeggie Burger           168.0        402.05   \n",
      "1  Regular Menu    McAloo Tikki Burger           146.0        339.52   \n",
      "2  Regular Menu  McSpicy Paneer Burger           199.0        652.76   \n",
      "3  Regular Menu      Spicy Paneer Wrap           250.0        674.68   \n",
      "4  Regular Menu    American Veg Burger           177.0        512.17   \n",
      "\n",
      "  Protein (g)  Total fat (g) Sat Fat (g) Trans fat (g) Cholesterols (mg)  \\\n",
      "0       10.24          13.83        5.34          0.16              2.49   \n",
      "1         8.5          11.31        4.27           0.2              1.47   \n",
      "2       20.29          39.45       17.12          0.18             21.85   \n",
      "3       20.96          39.10       19.73          0.26             40.93   \n",
      "4        15.3          23.45       10.51          0.17             25.24   \n",
      "\n",
      "  Total carbohydrate (g)  Total Sugars (g) Added Sugars (g)  Sodium (mg)  \\\n",
      "0                  56.54              7.90             4.49       706.13   \n",
      "1                  50.27              7.05             4.07       545.34   \n",
      "2                  52.33              8.35             5.27      1074.58   \n",
      "3                  59.27              3.50             1.08      1087.46   \n",
      "4                  56.96              7.85             4.76      1051.24   \n",
      "\n",
      "   grams sugar/mL  ratio_sodium  Percentage Sodium  \n",
      "0            4.70     420315.48               0.42  \n",
      "1            4.83     373520.55               0.37  \n",
      "2            4.20     539989.95               0.54  \n",
      "3            1.40     434984.00               0.43  \n",
      "4            4.44     593920.90               0.59  \n"
     ]
    }
   ],
   "source": [
    "print(dataframe.head(5))"
   ]
  },
  {
   "cell_type": "markdown",
   "metadata": {},
   "source": [
    "[Return to Top: Table of Contents](#table_contents)\n",
    "<a class=\"anchor\" id=\"section4\"></a>\n",
    "<h2 style=\"color: #808080; background-color:#9aa9a9; text-align:center; border: 3px solid #000000\"><span style=\"color:#670100; font-weight:800\">Question #1 Danger of Sugar</span></h2>\n",
    "\n",
    "What item has HIGHEST ratio of sugar to serving size?\n",
    "In order try answer this Q I will utilize a scatterplot, with serving\n",
    "size for x-axis and sugars on the y-axis. Later I will do some arithmetic\n",
    "to calculate the respecive ratios but first let's visualize that data!"
   ]
  },
  {
   "cell_type": "code",
   "execution_count": 201,
   "metadata": {},
   "outputs": [
    {
     "data": {
      "image/png": "[encoded data removed]",
      "text/plain": [
       "<Figure size 432x288 with 1 Axes>"
      ]
     },
     "metadata": {
      "needs_background": "dark"
     },
     "output_type": "display_data"
    }
   ],
   "source": [
    "##dataframe['grams sugar/mL'] = round(dataframe['Total Sugars (g)'] / dataframe['Per Serve Size'] * 100, 2)\n",
    "soda_df = dataframe[['Menu Category','Menu Items','Total Sugars (g)', 'Per Serve Size', 'grams sugar/mL']]\n",
    "coffee_df = dataframe[['Menu Category','Menu Items','Total Sugars (g)', 'Per Serve Size', 'grams sugar/mL']]\n",
    "soda_df = soda_df.loc[soda_df['Menu Category'] == ('Beverages Menu')]\n",
    "coffee_df = coffee_df.loc[coffee_df['Menu Category'] == ('McCafe Menu')]\n",
    "x = numpy.array(soda_df['Total Sugars (g)'])\n",
    "y = numpy.array(soda_df['Per Serve Size'])\n",
    "plt.scatter(x, y)\n",
    "plt.title(\"Gimme some Sugar!\", fontweight =\"bold\", color =\"white\")\n",
    "plt.xlabel(\"Total Sugars in grams\", fontweight =\"bold\", color =\"white\")\n",
    "plt.ylabel(\"Serving Size in mL\", fontweight =\"bold\", color =\"white\")\n",
    "plt.xticks(fontsize= 10, color =\"white\")\n",
    "plt.yticks(fontsize= 10, color =\"white\")\n",
    "plt.show()\n"
   ]
  },
  {
   "cell_type": "code",
   "execution_count": 202,
   "metadata": {},
   "outputs": [
    {
     "data": {
      "image/png": "[encoded data removed]",
      "text/plain": [
       "<Figure size 432x288 with 1 Axes>"
      ]
     },
     "metadata": {
      "needs_background": "dark"
     },
     "output_type": "display_data"
    }
   ],
   "source": [
    "## @Dev I want to combine these two scatterplots, for Sodas and for McCafe drinks\n",
    "## if you've got any good ideas how concat them or do overlay, and would be even cooler\n",
    "## if could make coffee/soda different colors, to make it more visual which drinks are at the extremes\n",
    "coffee_df = dataframe[['Menu Category','Menu Items','Total Sugars (g)', 'Per Serve Size', 'grams sugar/mL']]\n",
    "coffee_df = coffee_df.loc[coffee_df['Menu Category'] == ('McCafe Menu')]\n",
    "x = numpy.array(coffee_df['Total Sugars (g)'])\n",
    "y = numpy.array(coffee_df['Per Serve Size'])\n",
    "plt.scatter(x, y)\n",
    "plt.title(\"Gimme some Sugar!\", fontweight =\"bold\", color =\"white\")\n",
    "plt.xlabel(\"Total Sugars in grams\", fontweight =\"bold\", color =\"white\")\n",
    "plt.ylabel(\"Serving Size in mL\", fontweight =\"bold\", color =\"white\")\n",
    "plt.xticks(fontsize= 10, color =\"white\")\n",
    "plt.yticks(fontsize= 10, color =\"white\")\n",
    "plt.show()"
   ]
  },
  {
   "cell_type": "code",
   "execution_count": 196,
   "metadata": {
    "scrolled": true
   },
   "outputs": [
    {
     "name": "stdout",
     "output_type": "stream",
     "text": [
      "                       Menu Items  Total Sugars (g)  Per Serve Size  \\\n",
      "115               Small Coca-Cola             27.39          299.00   \n",
      "116              Medium Coca-Cola             37.84          394.00   \n",
      "117               Large Coca-Cola             54.34          544.00   \n",
      "118            Small Fanta Oragne             32.37          299.00   \n",
      "119           Medium Fanta Orange             44.72          394.00   \n",
      "120            Large Fanta Oragne             64.22          544.00   \n",
      "121                Small Thums-up             24.90          299.00   \n",
      "122               Medium Thums-up             34.40          394.00   \n",
      "123                Large Thums-up             49.40          544.00   \n",
      "124                  Small Sprite             29.88          299.00   \n",
      "125                 Medium Sprite             41.28          394.00   \n",
      "126                  Large Sprite             59.28          544.00   \n",
      "127                    Coke Float             28.23          286.79   \n",
      "128                   Fanta Float             31.43          286.79   \n",
      "129                  Sprite Float             29.83          286.79   \n",
      "130                 Coke Zero Can              0.00          330.00   \n",
      "131  Vedica Natural Mineral Water              0.00          500.00   \n",
      "\n",
      "     grams sugar/mL  \n",
      "115            9.16  \n",
      "116            9.60  \n",
      "117            9.99  \n",
      "118           10.83  \n",
      "119           11.35  \n",
      "120           11.81  \n",
      "121            8.33  \n",
      "122            8.73  \n",
      "123            9.08  \n",
      "124            9.99  \n",
      "125           10.48  \n",
      "126           10.90  \n",
      "127            9.84  \n",
      "128           10.96  \n",
      "129           10.40  \n",
      "130            0.00  \n",
      "131            0.00  \n"
     ]
    }
   ],
   "source": [
    "## print(dataframe.head(25))\n",
    "dataframe['grams sugar/mL'] = round(dataframe['Total Sugars (g)'] / dataframe['Per Serve Size'] * 100, 2)\n",
    "beverage_df = dataframe[['Menu Category','Menu Items','Total Sugars (g)', 'Per Serve Size', 'grams sugar/mL']]\n",
    "beverage_df = beverage_df.loc[beverage_df['Menu Category'] == ('Beverages Menu')]\n",
    "df_print = beverage_df[['Menu Items','Total Sugars (g)', 'Per Serve Size', 'grams sugar/mL']]\n",
    "print(df_print)"
   ]
  },
  {
   "cell_type": "markdown",
   "metadata": {},
   "source": [
    "[Return to Top: Table of Contents](#table_contents)\n",
    "<a class=\"anchor\" id=\"section5\"></a>\n",
    "<h2 style=\"color: #808080; background-color:#9aa9a9; text-align:center; border: 3px solid #000000\"><span style=\"color:#670100; font-weight:800\">Question #2 Danger of Fat</span></h2>"
   ]
  },
  {
   "cell_type": "code",
   "execution_count": null,
   "metadata": {},
   "outputs": [],
   "source": [
    "x = numpy.array(dataframe['Total fat (g)'])\n",
    "y = numpy.array(dataframe['Per Serve Size'])\n",
    "plt.scatter(x, y)\n",
    "plt.title(\"Fat is Beautiful?\", fontweight =\"bold\", color =\"white\")\n",
    "plt.xlabel(\"Total Fat in grams\", fontweight =\"bold\", color =\"white\")\n",
    "plt.ylabel(\"Serving Size in grams\", fontweight =\"bold\", color =\"white\")\n",
    "plt.xticks(fontsize= 10, color =\"white\")\n",
    "plt.yticks(fontsize= 10, color =\"white\")\n",
    "plt.show()"
   ]
  },
  {
   "cell_type": "code",
   "execution_count": null,
   "metadata": {},
   "outputs": [],
   "source": [
    "dataframe['Percentage Fat'] = round(dataframe['Total fat (g)'] / dataframe['Per Serve Size'] * 100, 2)\n",
    "beverage_df = dataframe[['Menu Category','Menu Items','Total fat (g)', 'Per Serve Size', 'Percentage Fat']]\n",
    "beverage_df = beverage_df.loc[beverage_df['Menu Category'] == ('Beverages Menu')]\n",
    "beverage_df.drop(['Menu Category'], axis = 1)\n",
    "print(beverage_df.head(5))\n",
    "print(desserts_df)"
   ]
  },
  {
   "cell_type": "markdown",
   "metadata": {},
   "source": [
    "[Return to Top: Table of Contents](#table_contents)\n",
    "<a class=\"anchor\" id=\"section6\"></a>\n",
    "<h2 style=\"color: #808080; background-color:#9aa9a9; text-align:center; border: 3px solid #000000\"><span style=\"color:#670100; font-weight:800\">Question #3 Danger of Sodium</span></h2>"
   ]
  },
  {
   "cell_type": "code",
   "execution_count": null,
   "metadata": {},
   "outputs": [],
   "source": [
    "x = numpy.array(dataframe['Total Sugars (g)'])\n",
    "y = numpy.array(dataframe['Per Serve Size'])\n",
    "plt.scatter(x, y)\n",
    "plt.title(\"Some fries with your salt?\", fontweight =\"bold\", color =\"white\")\n",
    "plt.xlabel(\"Total Sodium in mgs\", fontweight =\"bold\", color =\"white\")\n",
    "plt.ylabel(\"Serving Size in grams\", fontweight =\"bold\", color =\"white\")\n",
    "plt.xticks(fontsize= 10, color =\"white\")\n",
    "plt.yticks(fontsize= 10, color =\"white\")\n",
    "plt.show()"
   ]
  },
  {
   "cell_type": "code",
   "execution_count": 211,
   "metadata": {},
   "outputs": [
    {
     "name": "stdout",
     "output_type": "stream",
     "text": [
      "                                    Menu Items  Sodium (mg)  Per Serve Size  \\\n",
      "0                              McVeggie Burger       706.13           168.0   \n",
      "1                          McAloo Tikki Burger       545.34           146.0   \n",
      "2                        McSpicy Paneer Burger      1074.58           199.0   \n",
      "3                            Spicy Paneer Wrap      1087.46           250.0   \n",
      "4                          American Veg Burger      1051.24           177.0   \n",
      "5                             Veg Maharaja Mac      1529.22           306.0   \n",
      "6                       Green Chilli Aloo Naan       579.60           132.0   \n",
      "7                                   Pizza Puff       390.74            87.0   \n",
      "8                            Mc chicken Burger       766.33           173.0   \n",
      "9                         FILLET-O-FISH Burger       530.54           136.0   \n",
      "10                     Mc Spicy Chicken Burger       928.52           186.0   \n",
      "11                          Spicy Chicken Wrap      1152.38           257.0   \n",
      "12                        Chicken Maharaja Mac      1854.71           296.0   \n",
      "13                     American Chicken Burger      1132.30           165.0   \n",
      "14                        Chicken Kebab Burger       548.79           138.0   \n",
      "15                     Green Chilli Kebab naan       410.78           138.0   \n",
      "16                        Mc Egg Masala Burger       757.91           126.2   \n",
      "17                Mc Egg Burger for Happy Meal       399.41           123.0   \n",
      "18  Ghee Rice with Mc Spicy Fried Chicken 1 pc      2399.49           325.0   \n",
      "19                  McSpicy Fried Chicken 1 pc       873.89           115.0   \n",
      "20                   4 piece Chicken McNuggets       313.25            64.0   \n",
      "21                   6 piece Chicken McNuggets       469.87            96.0   \n",
      "22                   9 piece Chicken McNuggets       704.81           144.0   \n",
      "23                      2 piece Chicken Strips       477.22            58.0   \n",
      "24                      3 piece Chicken Strips       715.83            87.0   \n",
      "25                      5 piece Chicken Strips      1193.05           145.0   \n",
      "26                               Regular Fries       153.15            77.0   \n",
      "27                                Medium Fries       216.79           109.0   \n",
      "28                                 Large Fries       306.29           154.0   \n",
      "29                              Regular Wedges       356.44           114.0   \n",
      "30                               Medium Wedges       487.76           156.0   \n",
      "31                                Large Wedges       675.35           216.0   \n",
      "32                                   L1 Coffee         0.00           200.0   \n",
      "33                         L1 Coffee with milk        14.00           205.0   \n",
      "34                    Double Chocochips Muffin       313.21            80.0   \n",
      "35                   Vanilla Chocochips Muffin       254.92            80.0   \n",
      "\n",
      "    Percentage Sodium  \n",
      "0                0.42  \n",
      "1                0.37  \n",
      "2                0.54  \n",
      "3                0.43  \n",
      "4                0.59  \n",
      "5                0.50  \n",
      "6                0.44  \n",
      "7                0.45  \n",
      "8                0.44  \n",
      "9                0.39  \n",
      "10               0.50  \n",
      "11               0.45  \n",
      "12               0.63  \n",
      "13               0.69  \n",
      "14               0.40  \n",
      "15               0.30  \n",
      "16               0.60  \n",
      "17               0.32  \n",
      "18               0.74  \n",
      "19               0.76  \n",
      "20               0.49  \n",
      "21               0.49  \n",
      "22               0.49  \n",
      "23               0.82  \n",
      "24               0.82  \n",
      "25               0.82  \n",
      "26               0.20  \n",
      "27               0.20  \n",
      "28               0.20  \n",
      "29               0.31  \n",
      "30               0.31  \n",
      "31               0.31  \n",
      "32               0.00  \n",
      "33               0.01  \n",
      "34               0.39  \n",
      "35               0.32  \n"
     ]
    }
   ],
   "source": [
    "dataframe['Percentage Sodium'] = round(dataframe['Sodium (mg)'] / dataframe['Per Serve Size'] / 10, 2)\n",
    "salty_df = dataframe[['Menu Category','Menu Items','Sodium (mg)', 'Per Serve Size', 'Percentage Sodium']]\n",
    "salty_df = salty_df.loc[salty_df['Menu Category'] == ('Regular Menu')]\n",
    "print_df = salty_df[['Menu Items','Sodium (mg)', 'Per Serve Size', 'Percentage Sodium']]\n",
    "print(print_df)"
   ]
  }
 ],
 "metadata": {
  "kernelspec": {
   "display_name": "Python 3 (ipykernel)",
   "language": "python",
   "name": "python3"
  },
  "language_info": {
   "codemirror_mode": {
    "name": "ipython",
    "version": 3
   },
   "file_extension": ".py",
   "mimetype": "text/x-python",
   "name": "python",
   "nbconvert_exporter": "python",
   "pygments_lexer": "ipython3",
   "version": "3.9.7"
  },
  "vscode": {
   "interpreter": {
    "hash": "aee8b7b246df8f9039afb4144a1f6fd8d2ca17a180786b69acc140d282b71a49"
   }
  }
 },
 "nbformat": 4,
 "nbformat_minor": 2
}
