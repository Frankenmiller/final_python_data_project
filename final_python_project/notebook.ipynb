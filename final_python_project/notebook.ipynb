{
 "cells": [
  {
   "cell_type": "markdown",
   "metadata": {},
   "source": [
    "This is Bryan Allen's submission for IDB10's Final Porfolio for skills of Python-Jupyter-Pandas-GitHub programming. It is based on a popular database of nutrition data from McD's Menu Items in India! There are three Q's I am curious to know and will attempt to answer using data manipulation:\n",
    "1.) What is the most unhealthy item on the Menu(I.E. Which item(s) contain the most fat?\n",
    "2.) Which item(s) have the HIGHEST ratio of sugar to serving size?\n",
    "3.) Which item(s) have the HIGHEST ratio of sodium to serving size?\n",
    "I hope that some these insights can help our programmer friends on Indian sub-continent make healthy choices for themselves and for their familes, so that they can responsibly enjoy these unique Indian-American treats. Who knows, maybe some of them will choose to work with McDs in the future."
   ]
  },
  {
   "cell_type": "markdown",
   "metadata": {},
   "source": [
    "<a class=\"anchor\" id=\"table_contents\"></a>\n",
    "<h2 style=\"color: #808080; background-color:#9aa9a9; text-align:center; border: 3px solid #000000\"><span style=\"color:#670100; font-weight:800\">Table of Contents</span></h2>"
   ]
  },
  {
   "cell_type": "markdown",
   "metadata": {},
   "source": [
    "* [Section 1: Importing Necessary Libraries and Data](#section1)\n",
    "* [Section 2: Previewing Data](#section2)\n",
    "* [Section 3: Data Cleaning](#section3)\n",
    "* [Section 4: Question #1 Danger of Sugar](#section4)\n",
    "* [Section 5: Question #2 Danger of Fat](#section5)\n",
    "* [Section 6: Question #3 Danger of Sodium](#section6)\n",
    "* [Section 7: Building the Model](#section7)\n",
    "* [Section 8: Testing Custom Data](#section8)\n",
    "\n",
    "<a class=\"anchor\" id=\"section1\"></a>\n",
    "<h2 style=\"color: #808080; background-color:#9aa9a9; text-align:center; border: 3px solid #000000\"><span style=\"color:#670100; font-weight:800\">Importing Necessary Libraries and Data</span></h2>"
   ]
  },
  {
   "cell_type": "code",
   "execution_count": 27,
   "metadata": {},
   "outputs": [],
   "source": [
    "import pandas as pandas\n",
    "import numpy as numpy\n",
    "import matplotlib.pyplot as plt"
   ]
  },
  {
   "cell_type": "markdown",
   "metadata": {},
   "source": [
    "NOTE: My project contains modules and libraries that are named according to MY naming convetions, since I am owner of this Notebook. I'm aware that on teams the standard naming convention is to create abbreviated aliases, and so when I'm on those teams I'll defer to their conventions, but if the project is mine I will name the modules whatever looks the coolest.\n",
    "\n",
    "Some programmers have asked why I do this; aliases make everything kinda look the same to me to force me to strain looking at them, the same when I look at red on green background, so maybe it's a disconnect between the brain and the eye (indeed I do have a touch of that type of color blindness). But the simple answer is that python code is fun to type, and it's beautiful to look at, for me anyway.\n",
    "<br /><br />\n",
    "Bryan Allen, apprentice Data Engineer<br />\n",
    "Lusaka Zambia August 2022\n"
   ]
  },
  {
   "cell_type": "code",
   "execution_count": 28,
   "metadata": {},
   "outputs": [],
   "source": [
    "dataframe = pandas.read_csv('India_Menu.csv')"
   ]
  },
  {
   "cell_type": "markdown",
   "metadata": {},
   "source": [
    "<a class=\"anchor\" id=\"section2\"></a>\n",
    "<h2 style=\"color: #808080; background-color:#808080; text-align:center; border: 3px solid #000000\"><span style=\"color:#670100; font-weight:800\">Previewing Data</span></h2>\n",
    "\n",
    "Taking a look at the head and tail of our DB can quickly give us an idea how long and how wide is the DB we're working with. Also we'll get rough idea how much cleaning our data will require"
   ]
  },
  {
   "cell_type": "code",
   "execution_count": 29,
   "metadata": {},
   "outputs": [
    {
     "name": "stdout",
     "output_type": "stream",
     "text": [
      "  Menu Category            Menu Items Per Serve Size  Energy (kCal)  \\\n",
      "0  Regular Menu      McVeggie™ Burger          168 g         402.05   \n",
      "1  Regular Menu  McAloo Tikki Burger®          146 g         339.52   \n",
      "\n",
      "   Protein (g)  Total fat (g)  Sat Fat (g)  Trans fat (g)  Cholesterols (mg)  \\\n",
      "0        10.24          13.83         5.34           0.16               2.49   \n",
      "1         8.50          11.31         4.27           0.20               1.47   \n",
      "\n",
      "   Total carbohydrate (g)  Total Sugars (g)  Added Sugars (g)  Sodium (mg)  \n",
      "0                   56.54              7.90              4.49       706.13  \n",
      "1                   50.27              7.05              4.07       545.34  \n",
      "       Menu Category            Menu Items Per Serve Size  Energy (kCal)  \\\n",
      "139  Condiments Menu            Sweet Corn           40 g          45.08   \n",
      "140  Condiments Menu  Mixed Fruit Beverage         180 ml          72.25   \n",
      "\n",
      "     Protein (g)  Total fat (g)  Sat Fat (g)  Trans fat (g)  \\\n",
      "139         1.47           1.00         0.22           0.04   \n",
      "140         0.65           0.02         0.02           0.02   \n",
      "\n",
      "     Cholesterols (mg)  Total carbohydrate (g)  Total Sugars (g)  \\\n",
      "139               2.00                    7.55              2.54   \n",
      "140               0.01                   18.00             16.83   \n",
      "\n",
      "     Added Sugars (g)  Sodium (mg)  \n",
      "139               0.0         0.04  \n",
      "140               0.0        10.80  \n"
     ]
    }
   ],
   "source": [
    "print(dataframe.head(2))\n",
    "print(dataframe.tail(2))"
   ]
  },
  {
   "cell_type": "code",
   "execution_count": 30,
   "metadata": {},
   "outputs": [
    {
     "name": "stdout",
     "output_type": "stream",
     "text": [
      "There are 141 items in the dataframe\n",
      "\n",
      "While we're at it let's go ahead take look at our column headers as a list\n"
     ]
    },
    {
     "data": {
      "text/plain": [
       "['Menu Category',\n",
       " 'Menu Items',\n",
       " 'Per Serve Size',\n",
       " 'Energy (kCal)',\n",
       " 'Protein (g)',\n",
       " 'Total fat (g)',\n",
       " 'Sat Fat (g)',\n",
       " 'Trans fat (g)',\n",
       " 'Cholesterols (mg)',\n",
       " 'Total carbohydrate (g)',\n",
       " 'Total Sugars (g)',\n",
       " 'Added Sugars (g)',\n",
       " 'Sodium (mg)']"
      ]
     },
     "execution_count": 30,
     "metadata": {},
     "output_type": "execute_result"
    }
   ],
   "source": [
    "item_count = dataframe['Menu Items'].count()\n",
    "print(\"There are\", item_count, \"items in the dataframe\")\n",
    "print()\n",
    "print(\"While we're at it let's go ahead take look at our column headers as a list\")\n",
    "list(dataframe.columns)"
   ]
  },
  {
   "cell_type": "code",
   "execution_count": 31,
   "metadata": {},
   "outputs": [
    {
     "name": "stdout",
     "output_type": "stream",
     "text": [
      "There are 7 unique categories of menu items. Let's take look at them:\n",
      "McCafe Menu        51\n",
      "Regular Menu       36\n",
      "Beverages Menu     17\n",
      "Breakfast Menu     15\n",
      "Gourmet Menu       11\n",
      "Condiments Menu     9\n",
      "Desserts Menu       2\n",
      "Name: Menu Category, dtype: int64\n",
      "Hey, this looks like good opportunity create a Histogram! Let's visualize the dispersion of these categories\n"
     ]
    },
    {
     "data": {
      "image/png": "[encoded data removed]",
      "text/plain": [
       "<Figure size 432x288 with 1 Axes>"
      ]
     },
     "metadata": {
      "needs_background": "dark"
     },
     "output_type": "display_data"
    }
   ],
   "source": [
    "num_unique_cats = dataframe[\"Menu Category\"].nunique()\n",
    "print(\"There are\", num_unique_cats,\"unique categories of menu items. Let's take look at them:\")\n",
    "menu_cat_values = (dataframe[\"Menu Category\"].value_counts())\n",
    "print(menu_cat_values)\n",
    "print(\"Hey, this looks like good opportunity create a Histogram! Let's visualize the dispersion of these categories\")\n",
    "bins=[0,1,2,3,4,5,6,7]\n",
    "plt.hist(dataframe['Menu Category'], bins=bins, facecolor='blue', edgecolor='gray', rwidth=1, align='mid')\n",
    "## plt.tight_layout()\n",
    "plt.title(\"Dispersion of Menu Categories\", fontweight =\"bold\", color =\"white\")\n",
    "plt.xlabel(\"Number menu items in category\", fontweight =\"bold\", color =\"white\")\n",
    "plt.ylabel(\"Menu Categories\", fontweight =\"bold\", color =\"white\")\n",
    "plt.xticks(color =\"white\", rotation = 45)\n",
    "plt.yticks(fontsize= 10, color =\"white\")\n",
    "plt.show()"
   ]
  },
  {
   "cell_type": "markdown",
   "metadata": {},
   "source": [
    "[Return to Top: Table of Contents](#table_contents)\n",
    "<a class=\"anchor\" id=\"section3\"></a>\n",
    "<h2 style=\"color:#808080; background-color:#808080; text-align:center; border: 3px solid #000000\"><span style=\"color:#670100; font-weight:800\">Data Cleaning</span></h2>"
   ]
  },
  {
   "cell_type": "code",
   "execution_count": 32,
   "metadata": {},
   "outputs": [],
   "source": [
    "pandas.set_option('display.max_colwidth', 25) ## constrains output length of cell value"
   ]
  },
  {
   "cell_type": "code",
   "execution_count": 33,
   "metadata": {},
   "outputs": [],
   "source": [
    "for col in list(dataframe.columns):\n",
    "    dataframe[col] = dataframe[col].astype(str).str.replace(u\"\\u2122\",'')"
   ]
  },
  {
   "cell_type": "code",
   "execution_count": 34,
   "metadata": {},
   "outputs": [],
   "source": [
    "for col in list(dataframe.columns):\n",
    "    dataframe[col] = dataframe[col].astype(str).str.replace(\"®\",'')"
   ]
  },
  {
   "cell_type": "code",
   "execution_count": 35,
   "metadata": {},
   "outputs": [],
   "source": [
    "for i in range(len(dataframe['Per Serve Size'])):\n",
    "    curr_cell = dataframe['Per Serve Size'][i]\n",
    "    curr_cell = curr_cell.split(' ')\n",
    "    dataframe['Per Serve Size'][i] = curr_cell[0]\n",
    "    i += 1"
   ]
  },
  {
   "cell_type": "code",
   "execution_count": 36,
   "metadata": {},
   "outputs": [
    {
     "name": "stdout",
     "output_type": "stream",
     "text": [
      "Total Sugars starts as type: object\n",
      "Serve Size starts as type: object\n",
      "Total fat starts as type: object\n",
      "Total Sodium starts as type: object\n",
      "- - - - - - - - - -  Making Conversion - - - - - - - - - - \n",
      "Column Total Sugars has been converted to type: float64\n",
      "Column Serve Size has been converted to type: float64\n",
      "Column Total fat has been converted to type: float64\n",
      "Column Total Sodium has been converted to type: float64\n"
     ]
    }
   ],
   "source": [
    "print(\"Total Sugars starts as type:\", dataframe['Total Sugars (g)'].dtype)\n",
    "print(\"Serve Size starts as type:\", dataframe['Per Serve Size'].dtype)\n",
    "print(\"Total fat starts as type:\", dataframe['Total fat (g)'].dtype)\n",
    "print(\"Total Sodium starts as type:\", dataframe['Sodium (mg)'].dtype)\n",
    "print(\"- \" * 10,\"Making Conversion\",\"- \" * 10)\n",
    "dataframe['Per Serve Size'] = dataframe['Per Serve Size'].astype(float)\n",
    "dataframe['Total Sugars (g)'] = dataframe['Total Sugars (g)'].astype(float)\n",
    "dataframe['Total fat (g)'] = dataframe['Total fat (g)'].astype(float)\n",
    "dataframe['Sodium (mg)'] = dataframe['Sodium (mg)'].astype(float)\n",
    "print(\"Column Total Sugars has been converted to type:\",dataframe['Total Sugars (g)'].dtype)\n",
    "print(\"Column Serve Size has been converted to type:\",dataframe['Per Serve Size'].dtype)\n",
    "print(\"Column Total fat has been converted to type:\",dataframe['Total fat (g)'].dtype)\n",
    "print(\"Column Total Sodium has been converted to type:\",dataframe['Sodium (mg)'].dtype)"
   ]
  },
  {
   "cell_type": "code",
   "execution_count": 37,
   "metadata": {},
   "outputs": [],
   "source": [
    "## print(dataframe.head(5))"
   ]
  },
  {
   "cell_type": "markdown",
   "metadata": {},
   "source": [
    "[Return to Top: Table of Contents](#table_contents)\n",
    "<a class=\"anchor\" id=\"section4\"></a>\n",
    "<h2 style=\"color: #808080; background-color:#9aa9a9; text-align:center; border: 3px solid #000000\"><span style=\"color:#670100; font-weight:800\">Question #1 Danger of Sugar</span></h2>\n",
    "\n",
    "What item has HIGHEST ratio of sugar to serving size?\n",
    "In order try answer this Q I will utilize a scatterplot, with serving\n",
    "size for x-axis and sugars on the y-axis. Later I will do some arithmetic\n",
    "to calculate the respecive ratios but first let's visualize that data!"
   ]
  },
  {
   "cell_type": "code",
   "execution_count": 38,
   "metadata": {},
   "outputs": [],
   "source": [
    "dataframe['grams sugar/mL'] = round(dataframe['Total Sugars (g)'] / dataframe['Per Serve Size'] * 100, 2)\n",
    "soda_df = dataframe[['Menu Category','Menu Items','Total Sugars (g)', 'Per Serve Size', 'grams sugar/mL']]\n",
    "coffee_df = dataframe[['Menu Category','Menu Items','Total Sugars (g)', 'Per Serve Size', 'grams sugar/mL']]\n",
    "soda_df = soda_df.loc[soda_df['Menu Category'] == ('Beverages Menu')]\n",
    "coffee_df = coffee_df.loc[coffee_df['Menu Category'] == ('McCafe Menu')]\n",
    "beverage_df = pandas.concat([soda_df, coffee_df], axis=1)"
   ]
  },
  {
   "cell_type": "markdown",
   "metadata": {},
   "source": [
    "Now that we've created our dataframes let's create a scatterplot and then look at a table"
   ]
  },
  {
   "cell_type": "code",
   "execution_count": 39,
   "metadata": {},
   "outputs": [
    {
     "data": {
      "image/png": "[encoded data removed]",
      "text/plain": [
       "<Figure size 432x288 with 1 Axes>"
      ]
     },
     "metadata": {
      "needs_background": "dark"
     },
     "output_type": "display_data"
    }
   ],
   "source": [
    "x = numpy.array(beverage_df['Total Sugars (g)'])\n",
    "y = numpy.array(beverage_df['Per Serve Size'])\n",
    "plt.scatter(x, y)\n",
    "plt.title(\"Gimme some Sugar!\", fontweight =\"bold\", color =\"white\")\n",
    "plt.xlabel(\"Total Sugars in grams\", fontweight =\"bold\", color =\"white\")\n",
    "plt.ylabel(\"Serving Size in mL\", fontweight =\"bold\", color =\"white\")\n",
    "plt.xticks(fontsize= 10, color =\"white\")\n",
    "plt.yticks(fontsize= 10, color =\"white\")\n",
    "plt.show()\n"
   ]
  },
  {
   "cell_type": "code",
   "execution_count": 40,
   "metadata": {
    "scrolled": true
   },
   "outputs": [
    {
     "name": "stdout",
     "output_type": "stream",
     "text": [
      "                  Menu Items  Total Sugars (g)  Per Serve Size  grams sugar/mL\n",
      "0            Small Coca-Cola             27.39          299.00            9.16\n",
      "1           Medium Coca-Cola             37.84          394.00            9.60\n",
      "2            Large Coca-Cola             54.34          544.00            9.99\n",
      "3         Small Fanta Oragne             32.37          299.00           10.83\n",
      "4        Medium Fanta Orange             44.72          394.00           11.35\n",
      "5         Large Fanta Oragne             64.22          544.00           11.81\n",
      "6             Small Thums-up             24.90          299.00            8.33\n",
      "7            Medium Thums-up             34.40          394.00            8.73\n",
      "8             Large Thums-up             49.40          544.00            9.08\n",
      "9               Small Sprite             29.88          299.00            9.99\n",
      "10             Medium Sprite             41.28          394.00           10.48\n",
      "11              Large Sprite             59.28          544.00           10.90\n",
      "12                Coke Float             28.23          286.79            9.84\n",
      "13               Fanta Float             31.43          286.79           10.96\n",
      "14              Sprite Float             29.83          286.79           10.40\n",
      "15             Coke Zero Can              0.00          330.00            0.00\n",
      "16  Vedica Natural Minera...              0.00          500.00            0.00\n",
      "17            Cappuccino (L)             14.45          355.00            4.07\n",
      "18                 Latte (S)             10.06          236.50            4.25\n",
      "19                 Latte (R)             12.52          307.50            4.07\n"
     ]
    }
   ],
   "source": [
    "coffee_df.reset_index(drop=True, inplace=True)\n",
    "soda_df.reset_index(drop=False, inplace=True)\n",
    "bevrage_df_print = pandas.concat([soda_df, coffee_df], axis=0, ignore_index=True)\n",
    "bevrage_df_print = bevrage_df_print[['Menu Items','Total Sugars (g)', 'Per Serve Size', 'grams sugar/mL']]\n",
    "print(bevrage_df_print.head(20))"
   ]
  },
  {
   "cell_type": "markdown",
   "metadata": {},
   "source": [
    "[Return to Top: Table of Contents](#table_contents)\n",
    "<a class=\"anchor\" id=\"section5\"></a>\n",
    "<h2 style=\"color: #808080; background-color:#9aa9a9; text-align:center; border: 3px solid #000000\"><span style=\"color:#670100; font-weight:800\">Question #2 Danger of Fat</span></h2>"
   ]
  },
  {
   "cell_type": "code",
   "execution_count": 41,
   "metadata": {},
   "outputs": [
    {
     "ename": "KeyError",
     "evalue": "\"['Fat (%)'] not in index\"",
     "output_type": "error",
     "traceback": [
      "\u001b[0;31m---------------------------------------------------------------------------\u001b[0m",
      "\u001b[0;31mKeyError\u001b[0m                                  Traceback (most recent call last)",
      "\u001b[0;32m/var/folders/7h/cq31d_5x1p5gm9n15lqzfbh80000gn/T/ipykernel_20825/2986149249.py\u001b[0m in \u001b[0;36m<module>\u001b[0;34m\u001b[0m\n\u001b[0;32m----> 1\u001b[0;31m \u001b[0mbreakfast_df\u001b[0m \u001b[0;34m=\u001b[0m \u001b[0mdataframe\u001b[0m\u001b[0;34m[\u001b[0m\u001b[0;34m[\u001b[0m\u001b[0;34m'Menu Category'\u001b[0m\u001b[0;34m,\u001b[0m\u001b[0;34m'Menu Items'\u001b[0m\u001b[0;34m,\u001b[0m\u001b[0;34m'Total fat (g)'\u001b[0m\u001b[0;34m,\u001b[0m \u001b[0;34m'Per Serve Size'\u001b[0m\u001b[0;34m,\u001b[0m \u001b[0;34m'Fat (%)'\u001b[0m\u001b[0;34m]\u001b[0m\u001b[0;34m]\u001b[0m\u001b[0;34m\u001b[0m\u001b[0;34m\u001b[0m\u001b[0m\n\u001b[0m\u001b[1;32m      2\u001b[0m \u001b[0mbreakfast_df\u001b[0m \u001b[0;34m=\u001b[0m \u001b[0mbreakfast_df\u001b[0m\u001b[0;34m.\u001b[0m\u001b[0mloc\u001b[0m\u001b[0;34m[\u001b[0m\u001b[0mbreakfast_df\u001b[0m\u001b[0;34m[\u001b[0m\u001b[0;34m'Menu Category'\u001b[0m\u001b[0;34m]\u001b[0m \u001b[0;34m==\u001b[0m \u001b[0;34m(\u001b[0m\u001b[0;34m'Breakfast Menu'\u001b[0m\u001b[0;34m)\u001b[0m\u001b[0;34m]\u001b[0m\u001b[0;34m\u001b[0m\u001b[0;34m\u001b[0m\u001b[0m\n\u001b[1;32m      3\u001b[0m \u001b[0mbreakfast_df\u001b[0m \u001b[0;34m=\u001b[0m \u001b[0mbreakfast_df\u001b[0m\u001b[0;34m.\u001b[0m\u001b[0miloc\u001b[0m\u001b[0;34m[\u001b[0m\u001b[0;34m:\u001b[0m\u001b[0;34m-\u001b[0m\u001b[0;36m7\u001b[0m\u001b[0;34m,\u001b[0m\u001b[0;34m]\u001b[0m \u001b[0;31m## removes coffee drinks\u001b[0m\u001b[0;34m\u001b[0m\u001b[0;34m\u001b[0m\u001b[0m\n\u001b[1;32m      4\u001b[0m \u001b[0mlunch_df\u001b[0m \u001b[0;34m=\u001b[0m \u001b[0mdataframe\u001b[0m\u001b[0;34m[\u001b[0m\u001b[0;34m[\u001b[0m\u001b[0;34m'Menu Category'\u001b[0m\u001b[0;34m,\u001b[0m\u001b[0;34m'Menu Items'\u001b[0m\u001b[0;34m,\u001b[0m\u001b[0;34m'Total fat (g)'\u001b[0m\u001b[0;34m,\u001b[0m \u001b[0;34m'Per Serve Size'\u001b[0m\u001b[0;34m,\u001b[0m \u001b[0;34m'Fat (%)'\u001b[0m\u001b[0;34m]\u001b[0m\u001b[0;34m]\u001b[0m\u001b[0;34m\u001b[0m\u001b[0;34m\u001b[0m\u001b[0m\n\u001b[1;32m      5\u001b[0m \u001b[0mlunch_df\u001b[0m \u001b[0;34m=\u001b[0m \u001b[0mlunch_df\u001b[0m\u001b[0;34m.\u001b[0m\u001b[0mloc\u001b[0m\u001b[0;34m[\u001b[0m\u001b[0mlunch_df\u001b[0m\u001b[0;34m[\u001b[0m\u001b[0;34m'Menu Category'\u001b[0m\u001b[0;34m]\u001b[0m \u001b[0;34m==\u001b[0m \u001b[0;34m(\u001b[0m\u001b[0;34m'Regular Menu'\u001b[0m\u001b[0;34m)\u001b[0m\u001b[0;34m]\u001b[0m\u001b[0;34m\u001b[0m\u001b[0;34m\u001b[0m\u001b[0m\n",
      "\u001b[0;32m/opt/anaconda3/lib/python3.9/site-packages/pandas/core/frame.py\u001b[0m in \u001b[0;36m__getitem__\u001b[0;34m(self, key)\u001b[0m\n\u001b[1;32m   3462\u001b[0m             \u001b[0;32mif\u001b[0m \u001b[0mis_iterator\u001b[0m\u001b[0;34m(\u001b[0m\u001b[0mkey\u001b[0m\u001b[0;34m)\u001b[0m\u001b[0;34m:\u001b[0m\u001b[0;34m\u001b[0m\u001b[0;34m\u001b[0m\u001b[0m\n\u001b[1;32m   3463\u001b[0m                 \u001b[0mkey\u001b[0m \u001b[0;34m=\u001b[0m \u001b[0mlist\u001b[0m\u001b[0;34m(\u001b[0m\u001b[0mkey\u001b[0m\u001b[0;34m)\u001b[0m\u001b[0;34m\u001b[0m\u001b[0;34m\u001b[0m\u001b[0m\n\u001b[0;32m-> 3464\u001b[0;31m             \u001b[0mindexer\u001b[0m \u001b[0;34m=\u001b[0m \u001b[0mself\u001b[0m\u001b[0;34m.\u001b[0m\u001b[0mloc\u001b[0m\u001b[0;34m.\u001b[0m\u001b[0m_get_listlike_indexer\u001b[0m\u001b[0;34m(\u001b[0m\u001b[0mkey\u001b[0m\u001b[0;34m,\u001b[0m \u001b[0maxis\u001b[0m\u001b[0;34m=\u001b[0m\u001b[0;36m1\u001b[0m\u001b[0;34m)\u001b[0m\u001b[0;34m[\u001b[0m\u001b[0;36m1\u001b[0m\u001b[0;34m]\u001b[0m\u001b[0;34m\u001b[0m\u001b[0;34m\u001b[0m\u001b[0m\n\u001b[0m\u001b[1;32m   3465\u001b[0m \u001b[0;34m\u001b[0m\u001b[0m\n\u001b[1;32m   3466\u001b[0m         \u001b[0;31m# take() does not accept boolean indexers\u001b[0m\u001b[0;34m\u001b[0m\u001b[0;34m\u001b[0m\u001b[0m\n",
      "\u001b[0;32m/opt/anaconda3/lib/python3.9/site-packages/pandas/core/indexing.py\u001b[0m in \u001b[0;36m_get_listlike_indexer\u001b[0;34m(self, key, axis)\u001b[0m\n\u001b[1;32m   1312\u001b[0m             \u001b[0mkeyarr\u001b[0m\u001b[0;34m,\u001b[0m \u001b[0mindexer\u001b[0m\u001b[0;34m,\u001b[0m \u001b[0mnew_indexer\u001b[0m \u001b[0;34m=\u001b[0m \u001b[0max\u001b[0m\u001b[0;34m.\u001b[0m\u001b[0m_reindex_non_unique\u001b[0m\u001b[0;34m(\u001b[0m\u001b[0mkeyarr\u001b[0m\u001b[0;34m)\u001b[0m\u001b[0;34m\u001b[0m\u001b[0;34m\u001b[0m\u001b[0m\n\u001b[1;32m   1313\u001b[0m \u001b[0;34m\u001b[0m\u001b[0m\n\u001b[0;32m-> 1314\u001b[0;31m         \u001b[0mself\u001b[0m\u001b[0;34m.\u001b[0m\u001b[0m_validate_read_indexer\u001b[0m\u001b[0;34m(\u001b[0m\u001b[0mkeyarr\u001b[0m\u001b[0;34m,\u001b[0m \u001b[0mindexer\u001b[0m\u001b[0;34m,\u001b[0m \u001b[0maxis\u001b[0m\u001b[0;34m)\u001b[0m\u001b[0;34m\u001b[0m\u001b[0;34m\u001b[0m\u001b[0m\n\u001b[0m\u001b[1;32m   1315\u001b[0m \u001b[0;34m\u001b[0m\u001b[0m\n\u001b[1;32m   1316\u001b[0m         if needs_i8_conversion(ax.dtype) or isinstance(\n",
      "\u001b[0;32m/opt/anaconda3/lib/python3.9/site-packages/pandas/core/indexing.py\u001b[0m in \u001b[0;36m_validate_read_indexer\u001b[0;34m(self, key, indexer, axis)\u001b[0m\n\u001b[1;32m   1375\u001b[0m \u001b[0;34m\u001b[0m\u001b[0m\n\u001b[1;32m   1376\u001b[0m             \u001b[0mnot_found\u001b[0m \u001b[0;34m=\u001b[0m \u001b[0mlist\u001b[0m\u001b[0;34m(\u001b[0m\u001b[0mensure_index\u001b[0m\u001b[0;34m(\u001b[0m\u001b[0mkey\u001b[0m\u001b[0;34m)\u001b[0m\u001b[0;34m[\u001b[0m\u001b[0mmissing_mask\u001b[0m\u001b[0;34m.\u001b[0m\u001b[0mnonzero\u001b[0m\u001b[0;34m(\u001b[0m\u001b[0;34m)\u001b[0m\u001b[0;34m[\u001b[0m\u001b[0;36m0\u001b[0m\u001b[0;34m]\u001b[0m\u001b[0;34m]\u001b[0m\u001b[0;34m.\u001b[0m\u001b[0munique\u001b[0m\u001b[0;34m(\u001b[0m\u001b[0;34m)\u001b[0m\u001b[0;34m)\u001b[0m\u001b[0;34m\u001b[0m\u001b[0;34m\u001b[0m\u001b[0m\n\u001b[0;32m-> 1377\u001b[0;31m             \u001b[0;32mraise\u001b[0m \u001b[0mKeyError\u001b[0m\u001b[0;34m(\u001b[0m\u001b[0;34mf\"{not_found} not in index\"\u001b[0m\u001b[0;34m)\u001b[0m\u001b[0;34m\u001b[0m\u001b[0;34m\u001b[0m\u001b[0m\n\u001b[0m\u001b[1;32m   1378\u001b[0m \u001b[0;34m\u001b[0m\u001b[0m\n\u001b[1;32m   1379\u001b[0m \u001b[0;34m\u001b[0m\u001b[0m\n",
      "\u001b[0;31mKeyError\u001b[0m: \"['Fat (%)'] not in index\""
     ]
    }
   ],
   "source": [
    "breakfast_df = dataframe[['Menu Category','Menu Items','Total fat (g)', 'Per Serve Size', 'Fat (%)']]\n",
    "breakfast_df = breakfast_df.loc[breakfast_df['Menu Category'] == ('Breakfast Menu')]\n",
    "breakfast_df = breakfast_df.iloc[:-7,] ## removes coffee drinks\n",
    "lunch_df = dataframe[['Menu Category','Menu Items','Total fat (g)', 'Per Serve Size', 'Fat (%)']]\n",
    "lunch_df = lunch_df.loc[lunch_df['Menu Category'] == ('Regular Menu')]\n",
    "fatty_df = pandas.concat([breakfast_df, lunch_df], axis=0, ignore_index=True)\n",
    "print(len(fatty_df), \"Items in fatty_df\")\n",
    "\n",
    "x = numpy.array(fatty_df['Total fat (g)'])\n",
    "y = numpy.array(fatty_df['Per Serve Size'])\n",
    "plt.scatter(x, y)\n",
    "plt.title(\"Fat is Beautiful?\", fontweight =\"bold\", color =\"white\")\n",
    "plt.xlabel(\"Total Fat in grams\", fontweight =\"bold\", color =\"white\")\n",
    "plt.ylabel(\"Serving Size in grams\", fontweight =\"bold\", color =\"white\")\n",
    "plt.xticks(fontsize= 10, color =\"white\")\n",
    "plt.yticks(fontsize= 10, color =\"white\")\n",
    "plt.show()"
   ]
  },
  {
   "cell_type": "code",
   "execution_count": 47,
   "metadata": {},
   "outputs": [
    {
     "name": "stdout",
     "output_type": "stream",
     "text": [
      "8 Items in breakfast_df\n",
      "44 Items in fatty_df\n",
      "                 Menu Items  Total fat (g)  Fat (%)\n",
      "0              Veg McMuffin          11.78     9.90\n",
      "1    Double Cheese McMuffin          12.82    12.82\n",
      "2        Spicy Egg McMuffin          11.81     9.59\n",
      "3         Sausage Mc Muffin          10.81     9.65\n",
      "4  Sausage Mc Muffin wit...          15.94    10.15\n",
      "5              Egg McMuffin          12.31    10.99\n",
      "6  Hot Cake with maple s...          14.02     9.87\n",
      "7                Hash Brown           7.32    11.44\n",
      "8           McVeggie Burger          13.83     8.23\n",
      "9       McAloo Tikki Burger          11.31     7.75\n"
     ]
    }
   ],
   "source": [
    "dataframe['Fat (%)'] = round(dataframe['Total fat (g)'] / dataframe['Per Serve Size'] * 100, 2)\n",
    "breakfast_df = dataframe[['Menu Category','Menu Items','Total fat (g)', 'Per Serve Size', 'Fat (%)']]\n",
    "## print(len(breakfast_df)) ## outputs len of 141 items\n",
    "breakfast_df = breakfast_df.loc[breakfast_df['Menu Category'] == ('Breakfast Menu')]\n",
    "# print(len(breakfast_df)) ## outputs len of 15 items\n",
    "breakfast_df = breakfast_df.iloc[:-7,] ## removes coffee drinks\n",
    "print(len(breakfast_df), \"Items in breakfast_df\") ## outputs len of 8 items\n",
    "\n",
    "lunch_df = dataframe[['Menu Category','Menu Items','Total fat (g)', 'Per Serve Size', 'Fat (%)']]\n",
    "# print(len(lunch_df)) ## outputs len of 141 items\n",
    "lunch_df = lunch_df.loc[lunch_df['Menu Category'] == ('Regular Menu')]\n",
    "# print(len(lunch_df)) ## prints len of 36 items\n",
    "## print(lunch_df.head(25))\n",
    "## print(breakfast_df)\n",
    "breakfast_df.reset_index(drop=True, inplace=False) ## prints len of 8 items\n",
    "lunch_df.reset_index(drop=True, inplace=False) ## prints len of 36 items\n",
    "\n",
    "fatty_df = pandas.concat([breakfast_df, lunch_df], axis=0, ignore_index=True)\n",
    "fatty_df.drop(['Menu Category'], axis=1, inplace=True)\n",
    "print(len(fatty_df), \"Items in fatty_df\") ## outputs 44 items\n",
    "fatty_df = fatty_df.drop(['Per Serve Size'], axis=1)\n",
    "print(fatty_df.head(10))"
   ]
  },
  {
   "cell_type": "markdown",
   "metadata": {},
   "source": [
    "[Return to Top: Table of Contents](#table_contents)\n",
    "<a class=\"anchor\" id=\"section6\"></a>\n",
    "<h2 style=\"color: #808080; background-color:#9aa9a9; text-align:center; border: 3px solid #000000\"><span style=\"color:#670100; font-weight:800\">Question #3 Danger of Sodium</span></h2>"
   ]
  },
  {
   "cell_type": "code",
   "execution_count": 57,
   "metadata": {},
   "outputs": [],
   "source": [
    "dataframe['Sodium (%)'] = round(dataframe['Sodium (mg)'] / dataframe['Per Serve Size'] / 10, 2)\n",
    "salty_lunch_df = dataframe[['Menu Category','Menu Items','Sodium (mg)', 'Per Serve Size', 'Sodium (%)']]\n",
    "salty_lunch_df = salty_lunch_df.loc[salty_lunch_df['Menu Category'] == ('Regular Menu')]\n",
    "salty_lunch_df = salty_lunch_df.iloc[:-4,]\n",
    "salty_breakfast_df = dataframe[['Menu Category','Menu Items','Sodium (mg)', 'Per Serve Size', 'Sodium (%)']]\n",
    "salty_breakfast_df = salty_breakfast_df.loc[salty_breakfast_df['Menu Category'] == ('Breakfast Menu')]\n",
    "salty_breakfast_df = salty_breakfast_df.iloc[:-7,]\n",
    "salty_print_df = pandas.concat([salty_breakfast_df, salty_lunch_df], axis=0, ignore_index=True)"
   ]
  },
  {
   "cell_type": "code",
   "execution_count": 49,
   "metadata": {},
   "outputs": [
    {
     "data": {
      "image/png": "[encoded data removed]",
      "text/plain": [
       "<Figure size 432x288 with 1 Axes>"
      ]
     },
     "metadata": {
      "needs_background": "dark"
     },
     "output_type": "display_data"
    }
   ],
   "source": [
    "x = numpy.array(salty_lunch_df['Sodium (mg)'])\n",
    "y = numpy.array(salty_lunch_df['Per Serve Size'])\n",
    "plt.scatter(x, y)\n",
    "plt.title(\"Some fries with your salt?\", fontweight=\"bold\", color=\"white\")\n",
    "plt.xlabel(\"Total Sodium in mgs\", fontweight=\"bold\", color=\"white\")\n",
    "plt.ylabel(\"Serving Size in grams\", fontweight=\"bold\", color=\"white\")\n",
    "plt.xticks(fontsize=10, color=\"white\")\n",
    "plt.yticks(fontsize=10, color=\"white\")\n",
    "plt.show()"
   ]
  },
  {
   "cell_type": "markdown",
   "metadata": {},
   "source": [
    "Let's find the top five dishes that contain the highest Sodium totals"
   ]
  },
  {
   "cell_type": "code",
   "execution_count": 54,
   "metadata": {
    "scrolled": true
   },
   "outputs": [
    {
     "name": "stdout",
     "output_type": "stream",
     "text": [
      "                 Menu Items  Sodium (mg)  Sodium (%)\n",
      "0  Ghee Rice with Mc Spi...      2399.49        0.74\n",
      "1      Chicken Maharaja Mac      1854.71        0.63\n",
      "2          Veg Maharaja Mac      1529.22        0.50\n",
      "3    5 piece Chicken Strips      1193.05        0.82\n",
      "4        Spicy Chicken Wrap      1152.38        0.45\n"
     ]
    }
   ],
   "source": [
    "salty_breakfast_df = salty_breakfast_df.reset_index(drop=True, inplace=False)\n",
    "salty_lunch_df = salty_lunch_df.reset_index(drop=True, inplace=False)\n",
    "salty_print_df = salty_print_df.drop(['Menu Category', 'Per Serve Size'], axis=1)\n",
    "salty_print_df.sort_values(by='Sodium (mg)', ascending=False, na_position='first', inplace=True)\n",
    "salty_print_df = salty_print_df.reset_index(drop=True, inplace=False)\n",
    "print(salty_print_df.head(5))"
   ]
  },
  {
   "cell_type": "markdown",
   "metadata": {},
   "source": [
    "and now let's find the top five saltiest dishes"
   ]
  },
  {
   "cell_type": "code",
   "execution_count": 58,
   "metadata": {},
   "outputs": [
    {
     "name": "stdout",
     "output_type": "stream",
     "text": [
      "                 Menu Items  Sodium (mg)  Sodium (%)\n",
      "0    5 piece Chicken Strips      1193.05        0.82\n",
      "1    3 piece Chicken Strips       715.83        0.82\n",
      "2    2 piece Chicken Strips       477.22        0.82\n",
      "3  McSpicy Fried Chicken...       873.89        0.76\n",
      "4  Ghee Rice with Mc Spi...      2399.49        0.74\n"
     ]
    }
   ],
   "source": [
    "salty_breakfast_df = salty_breakfast_df.reset_index(drop=True, inplace=False)\n",
    "salty_lunch_df = salty_lunch_df.reset_index(drop=True, inplace=False)\n",
    "salty_print_df = salty_print_df.drop(['Menu Category', 'Per Serve Size'], axis=1)\n",
    "salty_print_df.sort_values(by='Sodium (%)', ascending=False, na_position='first', inplace=True)\n",
    "salty_print_df = salty_print_df.reset_index(drop=True, inplace=False)\n",
    "print(salty_print_df.head(5))"
   ]
  },
  {
   "cell_type": "markdown",
   "metadata": {},
   "source": [
    "So even tho these chicken strips sound mighty tasty we should consider limiting our intake"
   ]
  }
 ],
 "metadata": {
  "kernelspec": {
   "display_name": "Python 3 (ipykernel)",
   "language": "python",
   "name": "python3"
  },
  "language_info": {
   "codemirror_mode": {
    "name": "ipython",
    "version": 3
   },
   "file_extension": ".py",
   "mimetype": "text/x-python",
   "name": "python",
   "nbconvert_exporter": "python",
   "pygments_lexer": "ipython3",
   "version": "3.9.7"
  },
  "vscode": {
   "interpreter": {
    "hash": "aee8b7b246df8f9039afb4144a1f6fd8d2ca17a180786b69acc140d282b71a49"
   }
  }
 },
 "nbformat": 4,
 "nbformat_minor": 2
}
