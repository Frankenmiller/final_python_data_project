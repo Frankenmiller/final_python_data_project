{
 "cells": [
  {
   "cell_type": "markdown",
   "metadata": {},
   "source": [
    "This is Bryan Allen's submission for IDB10's Final Porfolio for skills of Python-Jupyter-Pandas-GitHub programming. It is based on a popular database of nutrition data from McD's Menu Items in India! There are three Q's I am curious to know and will attempt to answer using data manipulation:\n",
    "1.) What is the most unhealthy item on the Menu?\n",
    "2.) What item has HIGHEST ratio of sugar to serving size?\n",
    "3.) What item has HIGHEST ration of sodium to serving size?\n",
    "I hope that some these insights can help our programmer friends on Indian sub-continent make healthy choices for themselve and their\n",
    "familes and responsibly enjoy these unique Indian-American treats. Who knows, maybe some of them will choose to work with McDs in future"
   ]
  },
  {
   "cell_type": "markdown",
   "metadata": {},
   "source": [
    "### Table of Contents\n",
    "* [Section 1: Importing Necessary Libraries and Data](#section1)\n",
    "* [Section 2: Previewing Data](#section2)\n",
    "* [Section 3: Data Cleaning](#section3)\n",
    "* [Section 4: Answering 3 Questions from the Data](#questions)\n",
    "* [Section 5: Building the Model](#section4)\n",
    "* [Section 6: Testing Custom Data](#section5)\n",
    "\n",
    "<a class=\"anchor\" id=\"section1\"></a>\n",
    "<h2 style=\"color: #808080; background-color:#808080; text-align:center; border: 3px solid #808080\">Importing Necessary Libraries and Data</h2>"
   ]
  },
  {
   "cell_type": "code",
   "execution_count": 13,
   "metadata": {},
   "outputs": [],
   "source": [
    "import pandas as pandas\n",
    "import numpy as numpy\n",
    "import matplotlib.pyplot as plt"
   ]
  },
  {
   "cell_type": "markdown",
   "metadata": {},
   "source": [
    "NOTE: My project contains modules and libraries that are named according to MY naming convetions, since I am the only programmer working on this Notebook. I'm aware that on teams the standard naming convention is to create abbreviated aliases, and when I'm on those teams I will defer to their conventions, but if the project is mine I will name the modules whatever looks the coolest. Some programmers have asked why I do this, and the simple answer is that python code to me is fun to type, and it's beautiful to look at. That's all\n",
    "- Bryan Allen, apprentice Data Engineer\n",
    "Lusaka Zambia August 2022\n"
   ]
  },
  {
   "cell_type": "code",
   "execution_count": 14,
   "metadata": {},
   "outputs": [
    {
     "name": "stdout",
     "output_type": "stream",
     "text": [
      "Taking a look at the head and tail of our DB can quickly give us an idea how long and how wide is the DB we're working with. Also we'll get rough idea how much cleaning our data will require\n",
      "\n",
      "  Menu Category            Menu Items Per Serve Size  Energy (kCal)  \\\n",
      "0  Regular Menu      McVeggie™ Burger          168 g         402.05   \n",
      "1  Regular Menu  McAloo Tikki Burger®          146 g         339.52   \n",
      "\n",
      "   Protein (g)  Total fat (g)  Sat Fat (g)  Trans fat (g)  Cholesterols (mg)  \\\n",
      "0        10.24          13.83         5.34           0.16               2.49   \n",
      "1         8.50          11.31         4.27           0.20               1.47   \n",
      "\n",
      "   Total carbohydrate (g)  Total Sugars (g)  Added Sugars (g)  Sodium (mg)  \n",
      "0                   56.54              7.90              4.49       706.13  \n",
      "1                   50.27              7.05              4.07       545.34  \n",
      "       Menu Category            Menu Items Per Serve Size  Energy (kCal)  \\\n",
      "139  Condiments Menu            Sweet Corn           40 g          45.08   \n",
      "140  Condiments Menu  Mixed Fruit Beverage         180 ml          72.25   \n",
      "\n",
      "     Protein (g)  Total fat (g)  Sat Fat (g)  Trans fat (g)  \\\n",
      "139         1.47           1.00         0.22           0.04   \n",
      "140         0.65           0.02         0.02           0.02   \n",
      "\n",
      "     Cholesterols (mg)  Total carbohydrate (g)  Total Sugars (g)  \\\n",
      "139               2.00                    7.55              2.54   \n",
      "140               0.01                   18.00             16.83   \n",
      "\n",
      "     Added Sugars (g)  Sodium (mg)  \n",
      "139               0.0         0.04  \n",
      "140               0.0        10.80  \n"
     ]
    }
   ],
   "source": [
    "dataframe = pandas.read_csv('India_Menu.csv')\n",
    "print(\"Taking a look at the head and tail of our DB can quickly give us an idea how long and how wide is the DB we're working with. Also we'll get rough idea how much cleaning our data will require\")\n",
    "print()\n",
    "print(dataframe.head(2))\n",
    "print(dataframe.tail(2))"
   ]
  },
  {
   "cell_type": "code",
   "execution_count": 15,
   "metadata": {},
   "outputs": [
    {
     "name": "stdout",
     "output_type": "stream",
     "text": [
      "There are 141 items in the dataframe\n",
      "Let's take look at our column headers as a list\n"
     ]
    },
    {
     "data": {
      "text/plain": [
       "['Menu Category',\n",
       " 'Menu Items',\n",
       " 'Per Serve Size',\n",
       " 'Energy (kCal)',\n",
       " 'Protein (g)',\n",
       " 'Total fat (g)',\n",
       " 'Sat Fat (g)',\n",
       " 'Trans fat (g)',\n",
       " 'Cholesterols (mg)',\n",
       " 'Total carbohydrate (g)',\n",
       " 'Total Sugars (g)',\n",
       " 'Added Sugars (g)',\n",
       " 'Sodium (mg)']"
      ]
     },
     "execution_count": 15,
     "metadata": {},
     "output_type": "execute_result"
    }
   ],
   "source": [
    "item_count = dataframe['Menu Items'].count()\n",
    "print(\"There are\", item_count, \"items in the dataframe\")\n",
    "print(\"Let's take look at our column headers as a list\")\n",
    "list(dataframe.columns)"
   ]
  },
  {
   "cell_type": "markdown",
   "metadata": {},
   "source": [
    "<a class=\"anchor\" id=\"section3\"></a>\n",
    "<h2 style=\"color:#FFAE88; background-color:#467296; text-align:center; border: 3px solid #C4C4C3\">Data Cleaning</h2>"
   ]
  },
  {
   "cell_type": "code",
   "execution_count": 16,
   "metadata": {},
   "outputs": [],
   "source": [
    "for col in list(dataframe.columns):\n",
    "    ## print(dataframe[col].str.replace(u\"\\u2122\",''))\n",
    "    dataframe[col] = dataframe[col].astype(str).str.replace(u\"\\u2122\",'')"
   ]
  },
  {
   "cell_type": "code",
   "execution_count": 17,
   "metadata": {},
   "outputs": [],
   "source": [
    "for col in list(dataframe.columns):\n",
    "    ## print(dataframe[col].str.replace(u\"\\u2122\",''))\n",
    "    dataframe[col] = dataframe[col].astype(str).str.replace(\"®\",'')"
   ]
  },
  {
   "cell_type": "code",
   "execution_count": 18,
   "metadata": {},
   "outputs": [],
   "source": [
    "for i in range(len(dataframe['Per Serve Size'])):\n",
    "    curr_cell = dataframe['Per Serve Size'][i]\n",
    "    curr_cell = curr_cell.split(' ')\n",
    "    dataframe['Per Serve Size'][i] = curr_cell[0]\n",
    "    i += 1"
   ]
  },
  {
   "cell_type": "code",
   "execution_count": 19,
   "metadata": {},
   "outputs": [
    {
     "name": "stdout",
     "output_type": "stream",
     "text": [
      "  Menu Category              Menu Items Per Serve Size Energy (kCal)  \\\n",
      "0  Regular Menu         McVeggie Burger            168        402.05   \n",
      "1  Regular Menu     McAloo Tikki Burger            146        339.52   \n",
      "2  Regular Menu   McSpicy Paneer Burger            199        652.76   \n",
      "3  Regular Menu       Spicy Paneer Wrap            250        674.68   \n",
      "4  Regular Menu     American Veg Burger            177        512.17   \n",
      "5  Regular Menu        Veg Maharaja Mac            306        832.67   \n",
      "6  Regular Menu  Green Chilli Aloo Naan            132        356.09   \n",
      "7  Regular Menu              Pizza Puff             87        228.21   \n",
      "8  Regular Menu       Mc chicken Burger            173         400.8   \n",
      "9  Regular Menu    FILLET-O-FISH Burger            136        348.11   \n",
      "\n",
      "  Protein (g) Total fat (g) Sat Fat (g) Trans fat (g) Cholesterols (mg)  \\\n",
      "0       10.24         13.83        5.34          0.16              2.49   \n",
      "1         8.5         11.31        4.27           0.2              1.47   \n",
      "2       20.29         39.45       17.12          0.18             21.85   \n",
      "3       20.96          39.1       19.73          0.26             40.93   \n",
      "4        15.3         23.45       10.51          0.17             25.24   \n",
      "5       24.17         37.94       16.83          0.28             36.19   \n",
      "6        7.91         15.08        6.11          0.24              9.45   \n",
      "7        5.45         11.44        5.72          0.09              5.17   \n",
      "8       15.66          15.7        5.47          0.16             31.17   \n",
      "9       15.44         14.16        5.79          0.21             32.83   \n",
      "\n",
      "  Total carbohydrate (g) Total Sugars (g) Added Sugars (g) Sodium (mg)  \n",
      "0                  56.54              7.9             4.49      706.13  \n",
      "1                  50.27             7.05             4.07      545.34  \n",
      "2                  52.33             8.35             5.27     1074.58  \n",
      "3                  59.27              3.5             1.08     1087.46  \n",
      "4                  56.96             7.85             4.76     1051.24  \n",
      "5                  93.84            11.52             6.92     1529.22  \n",
      "6                  46.36             4.53             1.15       579.6  \n",
      "7                  24.79             2.73             0.35      390.74  \n",
      "8                  47.98             5.53             4.49      766.33  \n",
      "9                  38.85             5.58             3.54      530.54  \n"
     ]
    }
   ],
   "source": [
    "print(dataframe.head(10))"
   ]
  },
  {
   "cell_type": "code",
   "execution_count": 20,
   "metadata": {},
   "outputs": [
    {
     "name": "stdout",
     "output_type": "stream",
     "text": [
      "There are 7 unique categories of menu items. Let's take look at them:\n",
      "McCafe Menu        51\n",
      "Regular Menu       36\n",
      "Beverages Menu     17\n",
      "Breakfast Menu     15\n",
      "Gourmet Menu       11\n",
      "Condiments Menu     9\n",
      "Desserts Menu       2\n",
      "Name: Menu Category, dtype: int64\n",
      "\n",
      "Hey, this looks like good opportunity create a Histogram!\n",
      "Let's visualize the dispersion of these categories\n",
      "\n"
     ]
    }
   ],
   "source": [
    "num_unique_cats = dataframe[\"Menu Category\"].nunique()\n",
    "print(\"There are\", num_unique_cats,\"unique categories of menu items. Let's take look at them:\")\n",
    "print(dataframe[\"Menu Category\"].value_counts())\n",
    "print()\n",
    "print(\"Hey, this looks like good opportunity create a Histogram!\")\n",
    "print(\"Let's visualize the dispersion of these categories\")\n",
    "print()\n",
    "menu_cat_values = (dataframe[\"Menu Category\"].value_counts())\n",
    "## dataframe.plot.hist(menu_cat_values.astype(int))\n",
    "## dataframe.plot.hist(num_unique_cats)\n",
    "## print(menu_cat_values)"
   ]
  },
  {
   "cell_type": "markdown",
   "metadata": {},
   "source": [
    "What item has HIGHEST ratio of sugar to serving size?\n",
    "In order try answer this Q I will utilize a scatterplot, with serving\n",
    "size for x-axis and sugars on the y-axis. Later I will do some arithmetic\n",
    "to calculate the respecive ratios but first let's visualize that data!"
   ]
  },
  {
   "cell_type": "code",
   "execution_count": 28,
   "metadata": {},
   "outputs": [
    {
     "data": {
      "image/png": "[encoded data removed]",
      "text/plain": [
       "<Figure size 432x288 with 1 Axes>"
      ]
     },
     "metadata": {
      "needs_background": "dark"
     },
     "output_type": "display_data"
    }
   ],
   "source": [
    "x = numpy.array(dataframe['Total Sugars (g)'])\n",
    "y = numpy.array(dataframe['Per Serve Size'])\n",
    "plt.scatter(x, y)\n",
    "plt.title(\"Gimme some Sugar!\", fontweight =\"bold\", color =\"white\")\n",
    "plt.xlabel(\"Total Sugars in grams\", fontweight =\"bold\", color =\"white\")\n",
    "plt.ylabel(\"Serving Size in grams\", fontweight =\"bold\", color =\"white\")\n",
    "plt.xticks(fontsize= 2, color =\"white\")\n",
    "plt.yticks(fontsize= 2, color =\"white\")\n",
    "plt.show()\n",
    "## @IDBdev IDK why ticks so stupid looking\n"
   ]
  }
 ],
 "metadata": {
  "kernelspec": {
   "display_name": "Python 3 (ipykernel)",
   "language": "python",
   "name": "python3"
  },
  "language_info": {
   "codemirror_mode": {
    "name": "ipython",
    "version": 3
   },
   "file_extension": ".py",
   "mimetype": "text/x-python",
   "name": "python",
   "nbconvert_exporter": "python",
   "pygments_lexer": "ipython3",
   "version": "3.9.7"
  },
  "vscode": {
   "interpreter": {
    "hash": "aee8b7b246df8f9039afb4144a1f6fd8d2ca17a180786b69acc140d282b71a49"
   }
  }
 },
 "nbformat": 4,
 "nbformat_minor": 2
}
